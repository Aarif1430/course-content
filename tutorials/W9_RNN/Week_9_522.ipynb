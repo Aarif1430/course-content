{
  "nbformat": 4,
  "nbformat_minor": 0,
  "metadata": {
    "colab": {
      "name": "Week 9 - 522.ipynb",
      "provenance": [],
      "collapsed_sections": [],
      "toc_visible": true
    },
    "kernelspec": {
      "name": "python3",
      "display_name": "Python 3"
    },
    "accelerator": "GPU"
  },
  "cells": [
    {
      "cell_type": "markdown",
      "metadata": {
        "id": "V0jMtXo2lrqU"
      },
      "source": [
        "# CIS-522 Week 9: RNNs\n",
        "\n",
        "__Instructor__: Lyle Ungar\n",
        "\n",
        "__Content creators:__ Anushree Hede"
      ]
    },
    {
      "cell_type": "markdown",
      "metadata": {
        "id": "5IIigIkLjgNS"
      },
      "source": [
        "* background: time series and memory\n",
        "* How to handle time series: 1-D CNN + padding or recurrence \n",
        "* An aside: embeddings (words, but also documents, pictures, people, ….)\n",
        "Word2vec?  Digit2vec \n",
        "* Recurrent Neural Net architecture and how to unroll and backpropagate through time\n",
        "* RNN uses overview; the role of embeddings\n",
        "** generation (predict next character or word)\n",
        "** tagging (predict POS label from hidden state)\n",
        "** seq2seq (in:“11 + 15” out:“26”>\n",
        "* the curse of exponential forgetting\n",
        "* GRUs and LSTMs address forgetting (somewhat)\n",
        "* BiLSTMs\n",
        "* Societal issues: NSFW/hate speech classification challenges\n",
        "* the final project (watch on your own)\n",
        "\n"
      ]
    },
    {
      "cell_type": "markdown",
      "metadata": {
        "id": "ilCde6lkQG6T"
      },
      "source": [
        "0. overview\r\n",
        "\r\n",
        "1. Introduction to embeddings \r\n",
        " \r\n",
        "    a. Transition: one-hot vectors to Word2Vec  \r\n",
        "    b. Word2Vec encodes similarity - try out a bunch of word similarities  \r\n",
        "    c. plot these and see how words compare in the Word2Vec space  \r\n",
        "\r\n",
        "2. RNN architecture   (using word embeddings)\r\n",
        "\r\n",
        "    a. Rolling out, hidden states - how this is useful in time-series     \r\n",
        "    b. Building an RNN in PyTorch  \r\n",
        "    c. Solve a (movie review/tweet sentiment) problem with this   \r\n",
        "    d. Compare against a baseline FFN to see difference in performance  \r\n",
        "    e. Compare number of parameters in a system that uses one-hot vs embeddings   \r\n",
        "\r\n",
        "3. LSTMs \r\n",
        "\r\n",
        "    a. Exploding and vanishing gradients  \r\n",
        "    b. How LSTM works, architecture   \r\n",
        "    c. Train LSTM on the same problem and see improvement  \r\n",
        "    d. biLSTMs  - does it help?\r\n",
        "    e. Forgetting. learn a simple problem: does this sequence of characters contain a “0”? Do this first with a standard RNN, then with an LSTM, with the “0” further and further back from the end of the sequence.\r\n",
        "\r\n",
        "4. Applications of RNNs in different NLP problems  (character level) \r\n",
        "\r\n",
        "    a. Set up a simple dataset (all character level problems)   \r\n",
        "    b. Importance of the \"hidden state\"   \r\n",
        "    c. Token classification / POS tagging  (tagging a character as a vowel or consonant)  \r\n",
        "    d. Generation  - Gutenberg (need to change)   \r\n",
        "    e. Seq2seq - encoder and decoder (German to English)\r\n"
      ]
    },
    {
      "cell_type": "markdown",
      "metadata": {
        "id": "G0zmwYBImHdn"
      },
      "source": [
        "---\n",
        "## Time series with neural nets\n",
        "Video"
      ]
    },
    {
      "cell_type": "markdown",
      "metadata": {
        "id": "f6gHudTqTuyd"
      },
      "source": [
        "---\n",
        "## Embeddings"
      ]
    },
    {
      "cell_type": "markdown",
      "metadata": {
        "id": "-S15d4q9ERdX"
      },
      "source": [
        "**Moving away from one-hot encodings**\r\n",
        "\r\n",
        "- Main reason: one-hot encodings cannot sufficently capture the notion of similarity between words; the cosine similarity between any two distinct one-hot encoding vectors = 0. \r\n",
        "- Then how do we represent words in a more meaningful way for a deep learning model?\r\n",
        "- Word embeddings: introduction \r\n",
        "- Implementations used widely - Word2Vec, GLoVE, (more recently BERT)\r\n",
        "- For this week, we will use Word2Vec for all our exercises\r\n",
        "- Link a source to study the Word2Vec algorithm details "
      ]
    },
    {
      "cell_type": "markdown",
      "metadata": {
        "id": "I_Qb_eOuGs2F"
      },
      "source": [
        "**Exercise to visualize word embeddings**\r\n",
        "\r\n",
        "- Take a simple corpus (sifficiently small)\r\n",
        "- Tokenize it using NLTK (or huggingface)\r\n",
        "- Use gensim's API to train a Word2Vec model with this corpus\r\n",
        "- Reduce the vector space to two dimensions \r\n",
        "- Visualize the space, and note how similar words are close to one another. Are there dissimilar words that are close to each other or similar words that are not close to each other? Why might this be happening?  \r\n",
        "- Use Word2Vec's pretrained embeddings (Wikipedia, Google News), and compute the cosine similarities of (some given pairs of words). Find your own pairs that give you high and low similarities. \r\n",
        "- This exercise is to convince the learners that such embeddings capture similarities an hold an important place when deep learning is applied to language applications. \r\n",
        "- (Need to think about discussion questions here).    "
      ]
    },
    {
      "cell_type": "markdown",
      "metadata": {
        "id": "gPymO3WdmTgv"
      },
      "source": [
        "LHU: this overlaps with week 10. There will be a general video about embeddings; then  just do a simple word2vec; see comment  below  to make sure the demo actually works.\n",
        "\n",
        "We will be using huggingface there. If it's easy, let's use it here,  too (steal the code from there). It will give better tokenization. just using a regex drops punctuation, among other problems."
      ]
    },
    {
      "cell_type": "code",
      "metadata": {
        "colab": {
          "base_uri": "https://localhost:8080/"
        },
        "id": "UR8y41zOT4jz",
        "outputId": "cbba8825-a018-46fc-8ebd-b93a9d110e3d"
      },
      "source": [
        "!pip install --upgrade gensim\r\n",
        "from gensim.models import Word2Vec\r\n",
        "import pandas as pd\r\n",
        "import nltk\r\n",
        "nltk.download('punkt')\r\n",
        "nltk.download('averaged_perceptron_tagger')\r\n",
        "nltk.download('brown')\r\n",
        "nltk.download('webtext')\r\n",
        "import numpy as np\r\n",
        "from nltk.corpus import brown\r\n",
        "from sklearn.manifold import TSNE\r\n",
        "import numpy as np\r\n",
        "import matplotlib.pyplot as plt\r\n",
        "import matplotlib.cm as cm\r\n",
        "% matplotlib inline\r\n",
        "import re\r\n",
        "from IPython.display import Image"
      ],
      "execution_count": null,
      "outputs": [
        {
          "output_type": "stream",
          "text": [
            "Collecting gensim\n",
            "\u001b[?25l  Downloading https://files.pythonhosted.org/packages/5c/4e/afe2315e08a38967f8a3036bbe7e38b428e9b7a90e823a83d0d49df1adf5/gensim-3.8.3-cp37-cp37m-manylinux1_x86_64.whl (24.2MB)\n",
            "\u001b[K     |████████████████████████████████| 24.2MB 135kB/s \n",
            "\u001b[?25hRequirement already satisfied, skipping upgrade: six>=1.5.0 in /usr/local/lib/python3.7/dist-packages (from gensim) (1.15.0)\n",
            "Requirement already satisfied, skipping upgrade: scipy>=0.18.1 in /usr/local/lib/python3.7/dist-packages (from gensim) (1.4.1)\n",
            "Requirement already satisfied, skipping upgrade: smart-open>=1.8.1 in /usr/local/lib/python3.7/dist-packages (from gensim) (4.2.0)\n",
            "Requirement already satisfied, skipping upgrade: numpy>=1.11.3 in /usr/local/lib/python3.7/dist-packages (from gensim) (1.19.5)\n",
            "Installing collected packages: gensim\n",
            "  Found existing installation: gensim 3.6.0\n",
            "    Uninstalling gensim-3.6.0:\n",
            "      Successfully uninstalled gensim-3.6.0\n",
            "Successfully installed gensim-3.8.3\n",
            "[nltk_data] Downloading package punkt to /root/nltk_data...\n",
            "[nltk_data]   Unzipping tokenizers/punkt.zip.\n",
            "[nltk_data] Downloading package averaged_perceptron_tagger to\n",
            "[nltk_data]     /root/nltk_data...\n",
            "[nltk_data]   Unzipping taggers/averaged_perceptron_tagger.zip.\n",
            "[nltk_data] Downloading package brown to /root/nltk_data...\n",
            "[nltk_data]   Unzipping corpora/brown.zip.\n",
            "[nltk_data] Downloading package webtext to /root/nltk_data...\n",
            "[nltk_data]   Unzipping corpora/webtext.zip.\n"
          ],
          "name": "stdout"
        }
      ]
    },
    {
      "cell_type": "code",
      "metadata": {
        "id": "A2fz0mCL9KKQ",
        "colab": {
          "base_uri": "https://localhost:8080/"
        },
        "outputId": "499a9216-a0d7-49b3-8065-64977c2a66cb"
      },
      "source": [
        "!pip show torchtext"
      ],
      "execution_count": null,
      "outputs": [
        {
          "output_type": "stream",
          "text": [
            "Name: torchtext\n",
            "Version: 0.3.1\n",
            "Summary: Text utilities and datasets for PyTorch\n",
            "Home-page: https://github.com/pytorch/text\n",
            "Author: PyTorch core devs and James Bradbury\n",
            "Author-email: jekbradbury@gmail.com\n",
            "License: BSD\n",
            "Location: /usr/local/lib/python3.7/dist-packages\n",
            "Requires: numpy, tqdm, torch, requests\n",
            "Required-by: \n"
          ],
          "name": "stdout"
        }
      ]
    },
    {
      "cell_type": "code",
      "metadata": {
        "id": "2nk8O0txk01r"
      },
      "source": [
        "# @title Figure Settings\n",
        "import ipywidgets as widgets\n",
        "%matplotlib inline \n",
        "fig_w, fig_h = (8, 6)\n",
        "plt.rcParams.update({'figure.figsize': (fig_w, fig_h)})\n",
        "%config InlineBackend.figure_format = 'retina'\n",
        "SMALL_SIZE = 12\n",
        "\n",
        "\n",
        "plt.style.use(\"https://raw.githubusercontent.com/NeuromatchAcademy/\"\n",
        "              \"course-content/master/nma.mplstyle\")\n",
        "\n",
        "# plt.rcParams.update(plt.rcParamsDefault)\n",
        "# plt.rc('font', size=SMALL_SIZE)          # controls default text sizes\n",
        "# plt.rc('axes', titlesize=SMALL_SIZE)     # fontsize of the axes title\n",
        "# plt.rc('axes', labelsize=SMALL_SIZE)    # fontsize of the x and y labels\n",
        "# plt.rc('xtick', labelsize=SMALL_SIZE)    # fontsize of the tick labels\n",
        "# plt.rc('ytick', labelsize=SMALL_SIZE)    # fontsize of the tick labels\n",
        "# plt.rc('legend', fontsize=SMALL_SIZE)    # legend fontsize\n",
        "# plt.rc('figure', titlesize=SMALL_SIZE)  # fontsize of the figure title"
      ],
      "execution_count": null,
      "outputs": []
    },
    {
      "cell_type": "markdown",
      "metadata": {
        "id": "xbKz0rroa_JW"
      },
      "source": [
        "### Introduction"
      ]
    },
    {
      "cell_type": "markdown",
      "metadata": {
        "id": "GDk5_9UobCfo"
      },
      "source": [
        "Word2vec is a group of related models that are used to produce word embeddings. These models are shallow, two-layer neural networks that are trained to reconstruct linguistic contexts of words. Word2vec takes as its input a large corpus of text and produces a vector space, with each unique word in the corpus being assigned a corresponding vector in the space. "
      ]
    },
    {
      "cell_type": "markdown",
      "metadata": {
        "id": "4hYXzuYe54uP"
      },
      "source": [
        "### Creating Word Embeddings"
      ]
    },
    {
      "cell_type": "markdown",
      "metadata": {
        "id": "Qn_MEZO6fLaa"
      },
      "source": [
        "We will create embeddings for a subset of categories in [Brown corpus](https://www1.essex.ac.uk/linguistics/external/clmt/w3c/corpus_ling/content/corpora/list/private/brown/brown.html).  In order to achieve this task we will use [gensim](https://radimrehurek.com/gensim/) library to create word2vec embeddings. Gensim’s word2vec expects a sequence of sentences as its input. Each sentence a list of words.\n",
        "Calling Word2Vec(sentences, iter=1) will run two passes over the sentences iterator (or, in general iter+1 passes). The first pass collects words and their frequencies to build an internal dictionary tree structure. The second and subsequent passes train the neural model. \n",
        "Word2vec accepts several parameters that affect both training speed and quality.\n",
        "\n",
        "One of them is for pruning the internal dictionary. Words that appear only once or twice in a billion-word corpus are probably uninteresting typos and garbage. In addition, there’s not enough data to make any meaningful training on those words, so it’s best to ignore them:\n",
        "\n",
        "`model = Word2Vec(sentences, min_count=10)  # default value is 5`\n",
        "\n",
        "\n",
        "A reasonable value for min_count is between 0-100, depending on the size of your dataset.\n",
        "\n",
        "Another parameter is the size of the NN layers, which correspond to the “degrees” of freedom the training algorithm has:\n",
        "\n",
        "`model = Word2Vec(sentences, size=200)  # default value is 100`\n",
        "\n",
        "\n",
        "Bigger size values require more training data, but can lead to better (more accurate) models. Reasonable values are in the tens to hundreds.\n",
        "\n",
        "The last of the major parameters (full list [here](https://radimrehurek.com/gensim/models/word2vec.html#gensim.models.word2vec.Word2Vec)) is for training parallelization, to speed up training:\n",
        "\n",
        "`model = Word2Vec(sentences, workers=4) # default = 1 worker = no parallelization`"
      ]
    },
    {
      "cell_type": "code",
      "metadata": {
        "id": "4UhrgWC9yNw-"
      },
      "source": [
        "category = ['editorial', 'fiction', 'government', 'mystery', 'news', 'religion', 'reviews', 'romance', 'science_fiction'] # ['adventure', 'belles_lettres', 'editorial', 'fiction', 'government', 'hobbies', 'humor', 'learned', 'lore', 'mystery', 'news', 'religion', 'reviews', 'romance', 'science_fiction']"
      ],
      "execution_count": null,
      "outputs": []
    },
    {
      "cell_type": "code",
      "metadata": {
        "id": "mYG6dRgl4znS"
      },
      "source": [
        "def create_word2vec_model(category = 'news', size = 50, sg = 1, min_count = 5):\r\n",
        "  try:\r\n",
        "    sentences = brown.sents(categories=brown.categories()) #(categories=category) #returns sentences as a list of tokens\r\n",
        "    model = Word2Vec(sentences, size=size, sg=sg, min_count=min_count)\r\n",
        "\r\n",
        "  except (AttributeError, TypeError):\r\n",
        "      raise AssertionError('Input variable \"category\" should be a string or list,  \"size\", \"sg\", \"min_count\" should be integers')\r\n",
        "\r\n",
        "  return model\r\n",
        "\r\n",
        "def model_dictionary(model):\r\n",
        "  words = list(w2vmodel.wv.vocab)\r\n",
        "  return words \r\n",
        "\r\n",
        "def get_embedding(word, model):\r\n",
        "  if word in w2vmodel.wv.vocab:\r\n",
        "    return model.wv[word]\r\n",
        "  else:\r\n",
        "    return None"
      ],
      "execution_count": null,
      "outputs": []
    },
    {
      "cell_type": "markdown",
      "metadata": {
        "id": "E5xulV57Nw2o"
      },
      "source": [
        "The cell will take 30-45 seconds to run."
      ]
    },
    {
      "cell_type": "code",
      "metadata": {
        "id": "P0LQa50W1d3v"
      },
      "source": [
        "w2vmodel = create_word2vec_model(category)"
      ],
      "execution_count": null,
      "outputs": []
    },
    {
      "cell_type": "markdown",
      "metadata": {
        "id": "KQj91u9L3ZEz"
      },
      "source": [
        "You can list all the words for which embeddings are created i.e. the dictionary."
      ]
    },
    {
      "cell_type": "code",
      "metadata": {
        "id": "5lwU0J0SUXRs"
      },
      "source": [
        "print(model_dictionary(w2vmodel))"
      ],
      "execution_count": null,
      "outputs": []
    },
    {
      "cell_type": "markdown",
      "metadata": {
        "id": "d7WY_g_P3wXY"
      },
      "source": [
        "You can get the embedding vector for a word in the dictionary."
      ]
    },
    {
      "cell_type": "code",
      "metadata": {
        "id": "0Va12snm4Itt"
      },
      "source": [
        "print(get_embedding('weather', w2vmodel))"
      ],
      "execution_count": null,
      "outputs": []
    },
    {
      "cell_type": "markdown",
      "metadata": {
        "id": "CO1xq4G26C2e"
      },
      "source": [
        "What do the embeddings mean? What do they represent?"
      ]
    },
    {
      "cell_type": "markdown",
      "metadata": {
        "id": "YITWgmtw59s9"
      },
      "source": [
        "### Visualizing Word Embeddings"
      ]
    },
    {
      "cell_type": "markdown",
      "metadata": {
        "id": "wTrSH9LKP5hM"
      },
      "source": [
        "We can now obtain the word embeddings for any word in the dictionary using word2vec. Let's visualize these embeddings to get an inuition of what these embeddings mean. The word embeddings obtained from word2vec model are in high dimensional space. We will use PCA to pick the 2 features that capture the most variance in the embeddings in order to represent them in a 2D space.\n",
        "\n",
        "\n",
        "For each word in `keys`, we pick the top 10 similar words (using cosing similarity) and plot them.  \n",
        "\n",
        " What should be the arrangement of similar words?\n",
        " What should be arrangement of the key clusters with respect to each other?\n",
        " "
      ]
    },
    {
      "cell_type": "code",
      "metadata": {
        "id": "PIxN4T_xRLEC"
      },
      "source": [
        "keys = ['election', 'magic', 'love', 'God', 'evidence', 'administration', 'governments']"
      ],
      "execution_count": null,
      "outputs": []
    },
    {
      "cell_type": "code",
      "metadata": {
        "id": "y1QP-C3WJYLl"
      },
      "source": [
        "def get_cluster_embeddings(keys):\n",
        "  embedding_clusters = []\n",
        "  word_clusters = []\n",
        "\n",
        "  # find closest words and add them to cluster\n",
        "  for word in keys:\n",
        "      embeddings = []\n",
        "      words = []\n",
        "      if not word in w2vmodel.wv.vocab:\n",
        "        print('The word ', word, 'is not in the dictionary')\n",
        "        continue\n",
        "\n",
        "      for similar_word, _ in w2vmodel.wv.most_similar(word, topn=10):\n",
        "          words.append(similar_word)\n",
        "          embeddings.append(w2vmodel.wv[similar_word])\n",
        "      embedding_clusters.append(embeddings)\n",
        "      word_clusters.append(words)\n",
        "\n",
        "  # get embeddings for the words in clusers\n",
        "  embedding_clusters = np.array(embedding_clusters)\n",
        "  n, m, k = embedding_clusters.shape\n",
        "  tsne_model_en_2d = TSNE(perplexity=10, n_components=2, init='pca', n_iter=3500, random_state=32)\n",
        "  embeddings_en_2d = np.array(tsne_model_en_2d.fit_transform(embedding_clusters.reshape(n * m, k))).reshape(n, m, 2)\n",
        "  return embeddings_en_2d, word_clusters"
      ],
      "execution_count": null,
      "outputs": []
    },
    {
      "cell_type": "code",
      "metadata": {
        "id": "2M9TuaqJKUbo"
      },
      "source": [
        "def tsne_plot_similar_words(title, labels, embedding_clusters, word_clusters, a, filename=None):\n",
        "    plt.figure(figsize=(16, 9))\n",
        "    colors = cm.rainbow(np.linspace(0, 1, len(labels)))\n",
        "    for label, embeddings, words, color in zip(labels, embedding_clusters, word_clusters, colors):\n",
        "        x = embeddings[:, 0]\n",
        "        y = embeddings[:, 1]\n",
        "        plt.scatter(x, y, color=color, alpha=a, label=label)\n",
        "        for i, word in enumerate(words):\n",
        "            plt.annotate(word, alpha=0.5, xy=(x[i], y[i]), xytext=(5, 2),\n",
        "                         textcoords='offset points', ha='right', va='bottom', size=8)\n",
        "    plt.legend(loc=\"lower left\")\n",
        "    plt.title(title)\n",
        "    plt.grid(True)\n",
        "    if filename:\n",
        "        plt.savefig(filename, format='png', dpi=150, bbox_inches='tight')\n",
        "    plt.show()"
      ],
      "execution_count": null,
      "outputs": []
    },
    {
      "cell_type": "code",
      "metadata": {
        "id": "wJvOa5X1SeXv"
      },
      "source": [
        "embeddings_en_2d, word_clusters = get_cluster_embeddings(keys)\n",
        "tsne_plot_similar_words('Similar words from Brown Corpus', keys, embeddings_en_2d, word_clusters, 0.7,\n",
        "                        'similar_words.png')"
      ],
      "execution_count": null,
      "outputs": []
    },
    {
      "cell_type": "markdown",
      "metadata": {
        "id": "JbMNDejeTvgr"
      },
      "source": [
        "Analyze the plot and answer the questions below - \n",
        "\n",
        "\n",
        "What does having higher similarity between two word embeddings mean?\n",
        "\n",
        "\n",
        "\n",
        "Why are cluster centers close to some keys but farther from others?\n"
      ]
    },
    {
      "cell_type": "markdown",
      "metadata": {
        "id": "Ro22isScXgdn"
      },
      "source": [
        "---\n",
        "##RNNs: the architecture\n",
        "\n",
        "* Rolling out, hidden states - how this is useful in time-series\n",
        "* Build an RNN in PyTorch\n",
        "*  Solve a (movie review/tweet sentiment) problem using RNN with embeddings\n",
        "* Compare against a baseline FFN to see difference in performance\n",
        "* Compare number of parameters in a system that uses one-hot vs embeddings\n"
      ]
    },
    {
      "cell_type": "markdown",
      "metadata": {
        "id": "nORAQP36wy_L"
      },
      "source": [
        "### Introduction"
      ]
    },
    {
      "cell_type": "markdown",
      "metadata": {
        "id": "ip_QWG1So9Hl"
      },
      "source": [
        "Recurrent neural networks, or RNNs , are a family of neural networks for processing sequential data. Just as a convolutional network is specialized for processing a grid of values X such as an image, a recurrent neural network is specialized for processing a sequence of values. RNNs prove useful in many scenarios where other deep learning models are not effective.\n",
        "\n",
        "* Not all problems can be converted into one with fixedlength inputs and outputs.\n",
        "\n",
        "\n",
        "* The deep learning models we have seen so far pick samples randomly. This might not be the best strategy for a task of understanding meaning from a piece of text. Words in a text occur in a sequence and therefore cannot be permuted randomly to get the meaning. \n",
        "\n",
        "* What if we want to use deep learning to accomplish the task of getting the next item in a sequence. An example for this would be predicting stock prices, auto-complete. \n",
        "\n",
        "* It is also not always practical to create networks for data that involve long sequences."
      ]
    },
    {
      "cell_type": "markdown",
      "metadata": {
        "id": "vJgOfSg4sTpr"
      },
      "source": [
        "A related idea is the use of convolution across a 1-D temporal sequence. This convolutional approach is the basis for time-delay neural networks. The convolution operation allows a network to share parameters across time but is shallow. The output of convolution is a sequence where each member of the output is a function of a small number of neighboring members of the input. The idea of parameter sharing manifests in the application of the same convolution kernel at each time step.Recurrent networks share parameters in a diﬀerent way. Each member of the output is a function of the previous members of the output. Each member of the output is produced using the same update rule applied to the previous outputs. This recurrent formulation results in the sharing of parameters through a verydeep computational graph."
      ]
    },
    {
      "cell_type": "markdown",
      "metadata": {
        "id": "9eue9vx0w3Ll"
      },
      "source": [
        "### Working of a RNN"
      ]
    },
    {
      "cell_type": "markdown",
      "metadata": {
        "id": "e7CEMXG_lMIR"
      },
      "source": [
        "Working -  rolling out, rnn shares weights across each time step"
      ]
    },
    {
      "cell_type": "code",
      "metadata": {
        "id": "exvYkRTVvtyc"
      },
      "source": [
        "Image(url='https://blog.floydhub.com/content/images/2019/04/rnn-2.gif')"
      ],
      "execution_count": null,
      "outputs": []
    },
    {
      "cell_type": "markdown",
      "metadata": {
        "id": "U-QIupnHxIja"
      },
      "source": [
        ""
      ]
    },
    {
      "cell_type": "markdown",
      "metadata": {
        "id": "PID0RcvPr8h1"
      },
      "source": [
        "### RNN in Pytorch"
      ]
    },
    {
      "cell_type": "markdown",
      "metadata": {
        "id": "HCCO9uXe4gGo"
      },
      "source": [
        "torchtext text classification - \n",
        "https://pytorch.org/text/stable/datasets.html#text-classification\n",
        "\n",
        "IMDB 25k test and train"
      ]
    },
    {
      "cell_type": "code",
      "metadata": {
        "id": "BzdISce-zP-j"
      },
      "source": [
        "import os\n",
        "import sys\n",
        "import random\n",
        "import torch\n",
        "import torch\n",
        "import torch.nn as nn\n",
        "from torch.autograd import Variable\n",
        "from torch.nn import functional as F\n",
        "import numpy as np\n",
        "from torchtext import data\n",
        "from torchtext.vocab import Vectors\n",
        "from torchtext import datasets\n",
        "device = torch.device('cuda' if torch.cuda.is_available() else 'cpu')"
      ],
      "execution_count": null,
      "outputs": []
    },
    {
      "cell_type": "code",
      "metadata": {
        "id": "oN9dCiop5h3u"
      },
      "source": [
        "LABEL = data.LabelField(dtype=torch.float)"
      ],
      "execution_count": null,
      "outputs": []
    },
    {
      "cell_type": "code",
      "metadata": {
        "id": "YIx3PXMlP6WE"
      },
      "source": [
        "\n",
        "def tokenize(x):\n",
        "  x = x.split()\n",
        "  for i in range(len(x)):\n",
        "    x[i] = x[i].lower().replace('\\n', '')\n",
        "  return x\n",
        "\n",
        "def load_dataset(test_sen=None):\n",
        "\n",
        "    \"\"\"\n",
        "    tokenizer : Breaks sentences into a list of words. If sequential=False, no tokenization is applied\n",
        "    Field : A class that stores information about the way of preprocessing\n",
        "    fix_length : An important property of TorchText is that we can let the input to be variable length, and TorchText will\n",
        "                 dynamically pad each sequence to the longest sequence in that \"batch\". But here we are using fix_length which\n",
        "                 will pad each sequence to have a fix length of 200.\n",
        "                 \n",
        "    build_vocab : It will first make a vocabulary or dictionary mapping all the unique words present in the train_data to an\n",
        "                  idx and then after it will use GloVe word embedding to map the index to the corresponding word embedding.\n",
        "                  \n",
        "    vocab.vectors : This returns a torch tensor of shape (vocab_size x embedding_dim) containing the pre-trained word embeddings.\n",
        "    BucketIterator : Defines an iterator that batches examples of similar lengths together to minimize the amount of padding needed.\n",
        "    \n",
        "    \"\"\"\n",
        "    \n",
        "    #tokenize = lambda x: x.split().lower().replace('\\n', '')\n",
        "    TEXT = data.Field(sequential=True, tokenize=tokenize, lower=True, include_lengths=True, batch_first=True, fix_length=200)\n",
        "    LABEL = data.LabelField(dtype=torch.float)\n",
        "    train_data, test_data = datasets.AG_NEWS.splits(TEXT, LABEL)\n",
        "    TEXT.build_vocab(train_data) #If no specific vector embeddings are specified, Torchtext initializes random vector embeddings which would get updated during training through backpropagation.\n",
        "    LABEL.build_vocab(train_data)\n",
        "\n",
        "    # word_embeddings = TEXT.vocab.vectors Ref - https://github.com/pytorch/text/issues/32\n",
        "    #nn.embeddings will set the weights randomly\n",
        "    # print(\"Word Embeddings: \" + word_embeddings)\n",
        "    print(\"Length of Text Vocabulary: \" + str(len(TEXT.vocab)))\n",
        "    print(\"Label Length: \" + str(len(LABEL.vocab)))\n",
        "\n",
        "    train_data, valid_data = train_data.split(split_ratio=0.7, random_state = random.seed(23))\n",
        "    # train_data, valid_data = train_data.split() # Further splitting of training_data to create new training_data & validation_data\n",
        "    train_iter, valid_iter, test_iter = data.BucketIterator.splits((train_data, valid_data, test_data), batch_size=32, sort_key=lambda x: len(x.text), repeat=False, shuffle=True)\n",
        "\n",
        "    '''Alternatively we can also use the default configurations'''\n",
        "    # train_iter, test_iter = datasets.IMDB.iters(batch_size=32)\n",
        "\n",
        "    vocab_size = len(TEXT.vocab)\n",
        "\n",
        "    return TEXT, vocab_size, train_iter, valid_iter, test_iter"
      ],
      "execution_count": null,
      "outputs": []
    },
    {
      "cell_type": "code",
      "metadata": {
        "id": "erWXW6TXWPWR"
      },
      "source": [
        "class RNN(nn.Module):\n",
        "  def __init__(self, batch_size, output_size, hidden_size, vocab_size, embedding_length):\n",
        "    super(RNN, self).__init__()\n",
        "\n",
        "    self.batch_size = batch_size\n",
        "    self.output_size = output_size\n",
        "    self.hidden_size = hidden_size\n",
        "    self.vocab_size = vocab_size\n",
        "    self.embedding_length = embedding_length\n",
        "\n",
        "    self.word_embeddings = nn.Embedding(vocab_size, embedding_length)\n",
        "    self.dropout = nn.Dropout(0.5)\n",
        "    self.rnn = nn.RNN(embedding_length, hidden_size, num_layers=2, bidirectional=True)\n",
        "    self.label = nn.Linear(4*hidden_size, output_size)\n",
        "\n",
        "  def forward(self, input_sentences, batch_size=None):\n",
        "    input = self.word_embeddings(input_sentences)\n",
        "    input = input.permute(1, 0, 2)\n",
        "    h_0 =  Variable(torch.zeros(4, self.batch_size, self.hidden_size).cuda())\n",
        "    input = self.dropout(input)\n",
        "    output, h_n = self.rnn(input, h_0)\n",
        "    print(output.shape, h_n.shape)\n",
        "    h_n = h_n.permute(1, 0, 2) # h_n.size() = (batch_size, 4, hidden_size)\n",
        "    h_n = h_n.contiguous().view(h_n.size()[0], h_n.size()[1]*h_n.size()[2])\n",
        "\n",
        "    print(h_n)\n",
        "    logits = self.label(h_n) # logits.size() = (batch_size, output_size)\n",
        "    \n",
        "    return logits"
      ],
      "execution_count": null,
      "outputs": []
    },
    {
      "cell_type": "code",
      "metadata": {
        "id": "QqbdTASqrrem"
      },
      "source": [
        "# class RNN(nn.Module):\n",
        "#   def __init__(self, batch_size, output_size, hidden_size, vocab_size, embedding_length):\n",
        "#     super(RNN, self).__init__()\n",
        "\n",
        "#     self.batch_size = batch_size\n",
        "#     self.output_size = output_size\n",
        "#     self.hidden_size = hidden_size\n",
        "#     self.vocab_size = vocab_size\n",
        "#     self.embedding_length = embedding_length\n",
        "\n",
        "#     self.word_embeddings = nn.Embedding(vocab_size, embedding_length)\n",
        "#     self.dropout = nn.Dropout(0.5)\n",
        "#     self.rnn = nn.RNN(embedding_length, hidden_size, num_layers=1, bidirectional=False)\n",
        "#     self.label = nn.Linear(hidden_size, output_size)\n",
        "\n",
        "#   def forward(self, input_sentences, batch_size=None):\n",
        "#     input = self.word_embeddings(input_sentences)\n",
        "#     print('input: ', input.shape)\n",
        "#     input = input.permute(1, 0, 2)\n",
        "#     h_0 =  Variable(torch.zeros(1, self.batch_size, self.hidden_size).cuda()) #automatic\n",
        "#     input = self.dropout(input)\n",
        "#     output, h_n = self.rnn(input, h_0)\n",
        "#     print(output.shape, h_n.shape)\n",
        "#     h_n = h_n.permute(1, 0, 2) # h_n.size() = (batch_size, 4, hidden_size)\n",
        "#     h_n = h_n.contiguous().view(h_n.size()[0], h_n.size()[1]*h_n.size()[2])\n",
        "    \n",
        "#     print(h_n.shape)\n",
        "#     logits = self.label(h_n) # logits.size() = (batch_size, output_size)\n",
        "    \n",
        "#     return logits"
      ],
      "execution_count": null,
      "outputs": []
    },
    {
      "cell_type": "code",
      "metadata": {
        "id": "sjUGV68MaTDD"
      },
      "source": [
        "def train_model(model, train_iter, epoch):\n",
        "    total_epoch_loss = 0\n",
        "    total_epoch_acc = 0\n",
        "    model.cuda()\n",
        "    optim = torch.optim.Adam(filter(lambda p: p.requires_grad, model.parameters()))\n",
        "    steps = 0\n",
        "    model.train()\n",
        "    for idx, batch in enumerate(train_iter):\n",
        "        text = batch.text[0]\n",
        "        target = batch.label\n",
        "        target = torch.autograd.Variable(target).long()\n",
        "        if torch.cuda.is_available():\n",
        "            text = text.cuda()\n",
        "            target = target.cuda()\n",
        "        if (text.size()[0] is not 32):# One of the batch returned by BucketIterator has length different than 32.\n",
        "            continue\n",
        "        optim.zero_grad()\n",
        "        prediction = model(text)\n",
        "        loss = loss_fn(prediction, target)\n",
        " \n",
        "        num_corrects = (torch.max(prediction, 1)[1].view(target.size()).data == target.data).float().sum()\n",
        "        acc = 100.0 * num_corrects/len(batch)\n",
        "        loss.backward()\n",
        "        \n",
        "        optim.step()\n",
        "        steps += 1\n",
        "        \n",
        "        if steps % 100 == 0:\n",
        "            print (f'Epoch: {epoch+1}, Idx: {idx+1}, Training Loss: {loss.item():.4f}, Training Accuracy: {acc.item(): .2f}%')\n",
        "        \n",
        "        total_epoch_loss += loss.item()\n",
        "        total_epoch_acc += acc.item()\n",
        "        \n",
        "    return total_epoch_loss/len(train_iter), total_epoch_acc/len(train_iter)\n"
      ],
      "execution_count": null,
      "outputs": []
    },
    {
      "cell_type": "code",
      "metadata": {
        "id": "cfmXjYhibtEn"
      },
      "source": [
        "def eval_model(model, val_iter):\n",
        "    total_epoch_loss = 0\n",
        "    total_epoch_acc = 0\n",
        "    model.eval()\n",
        "    with torch.no_grad():\n",
        "        for idx, batch in enumerate(val_iter):\n",
        "            text = batch.text[0]\n",
        "            if (text.size()[0] is not 32):\n",
        "                continue\n",
        "            target = batch.label\n",
        "            target = torch.autograd.Variable(target).long()\n",
        "            if torch.cuda.is_available():\n",
        "                text = text.cuda()\n",
        "                target = target.cuda()\n",
        "            prediction = model(text)\n",
        "            loss = loss_fn(prediction, target)\n",
        "            num_corrects = (torch.max(prediction, 1)[1].view(target.size()).data == target.data).sum()\n",
        "            acc = 100.0 * num_corrects/len(batch)\n",
        "            total_epoch_loss += loss.item()\n",
        "            total_epoch_acc += acc.item()\n",
        "\n",
        "    return total_epoch_loss/len(val_iter), total_epoch_acc/len(val_iter)"
      ],
      "execution_count": null,
      "outputs": []
    },
    {
      "cell_type": "code",
      "metadata": {
        "colab": {
          "base_uri": "https://localhost:8080/",
          "height": 371
        },
        "id": "LMpmMB2cbU3r",
        "outputId": "3c26d546-7d8a-4381-f0fb-73d3c749ed90"
      },
      "source": [
        "TEXT, vocab_size, train_iter, valid_iter, test_iter = load_dataset()\n",
        "print(len(train_iter),  len(valid_iter), len(test_iter))"
      ],
      "execution_count": null,
      "outputs": [
        {
          "output_type": "error",
          "ename": "AttributeError",
          "evalue": "ignored",
          "traceback": [
            "\u001b[0;31m---------------------------------------------------------------------------\u001b[0m",
            "\u001b[0;31mAttributeError\u001b[0m                            Traceback (most recent call last)",
            "\u001b[0;32m<ipython-input-22-7a7372e1a6e6>\u001b[0m in \u001b[0;36m<module>\u001b[0;34m()\u001b[0m\n\u001b[0;32m----> 1\u001b[0;31m \u001b[0mTEXT\u001b[0m\u001b[0;34m,\u001b[0m \u001b[0mvocab_size\u001b[0m\u001b[0;34m,\u001b[0m \u001b[0mtrain_iter\u001b[0m\u001b[0;34m,\u001b[0m \u001b[0mvalid_iter\u001b[0m\u001b[0;34m,\u001b[0m \u001b[0mtest_iter\u001b[0m \u001b[0;34m=\u001b[0m \u001b[0mload_dataset\u001b[0m\u001b[0;34m(\u001b[0m\u001b[0;34m)\u001b[0m\u001b[0;34m\u001b[0m\u001b[0;34m\u001b[0m\u001b[0m\n\u001b[0m\u001b[1;32m      2\u001b[0m \u001b[0mprint\u001b[0m\u001b[0;34m(\u001b[0m\u001b[0mlen\u001b[0m\u001b[0;34m(\u001b[0m\u001b[0mtrain_iter\u001b[0m\u001b[0;34m)\u001b[0m\u001b[0;34m,\u001b[0m  \u001b[0mlen\u001b[0m\u001b[0;34m(\u001b[0m\u001b[0mvalid_iter\u001b[0m\u001b[0;34m)\u001b[0m\u001b[0;34m,\u001b[0m \u001b[0mlen\u001b[0m\u001b[0;34m(\u001b[0m\u001b[0mtest_iter\u001b[0m\u001b[0;34m)\u001b[0m\u001b[0;34m)\u001b[0m\u001b[0;34m\u001b[0m\u001b[0;34m\u001b[0m\u001b[0m\n",
            "\u001b[0;32m<ipython-input-21-9e943f8023df>\u001b[0m in \u001b[0;36mload_dataset\u001b[0;34m(test_sen)\u001b[0m\n\u001b[1;32m     26\u001b[0m     \u001b[0mTEXT\u001b[0m \u001b[0;34m=\u001b[0m \u001b[0mdata\u001b[0m\u001b[0;34m.\u001b[0m\u001b[0mField\u001b[0m\u001b[0;34m(\u001b[0m\u001b[0msequential\u001b[0m\u001b[0;34m=\u001b[0m\u001b[0;32mTrue\u001b[0m\u001b[0;34m,\u001b[0m \u001b[0mtokenize\u001b[0m\u001b[0;34m=\u001b[0m\u001b[0mtokenize\u001b[0m\u001b[0;34m,\u001b[0m \u001b[0mlower\u001b[0m\u001b[0;34m=\u001b[0m\u001b[0;32mTrue\u001b[0m\u001b[0;34m,\u001b[0m \u001b[0minclude_lengths\u001b[0m\u001b[0;34m=\u001b[0m\u001b[0;32mTrue\u001b[0m\u001b[0;34m,\u001b[0m \u001b[0mbatch_first\u001b[0m\u001b[0;34m=\u001b[0m\u001b[0;32mTrue\u001b[0m\u001b[0;34m,\u001b[0m \u001b[0mfix_length\u001b[0m\u001b[0;34m=\u001b[0m\u001b[0;36m200\u001b[0m\u001b[0;34m)\u001b[0m\u001b[0;34m\u001b[0m\u001b[0;34m\u001b[0m\u001b[0m\n\u001b[1;32m     27\u001b[0m     \u001b[0mLABEL\u001b[0m \u001b[0;34m=\u001b[0m \u001b[0mdata\u001b[0m\u001b[0;34m.\u001b[0m\u001b[0mLabelField\u001b[0m\u001b[0;34m(\u001b[0m\u001b[0mdtype\u001b[0m\u001b[0;34m=\u001b[0m\u001b[0mtorch\u001b[0m\u001b[0;34m.\u001b[0m\u001b[0mfloat\u001b[0m\u001b[0;34m)\u001b[0m\u001b[0;34m\u001b[0m\u001b[0;34m\u001b[0m\u001b[0m\n\u001b[0;32m---> 28\u001b[0;31m     \u001b[0mtrain_data\u001b[0m\u001b[0;34m,\u001b[0m \u001b[0mtest_data\u001b[0m \u001b[0;34m=\u001b[0m \u001b[0mdatasets\u001b[0m\u001b[0;34m.\u001b[0m\u001b[0mAG_NEWS\u001b[0m\u001b[0;34m.\u001b[0m\u001b[0msplits\u001b[0m\u001b[0;34m(\u001b[0m\u001b[0mTEXT\u001b[0m\u001b[0;34m,\u001b[0m \u001b[0mLABEL\u001b[0m\u001b[0;34m)\u001b[0m\u001b[0;34m\u001b[0m\u001b[0;34m\u001b[0m\u001b[0m\n\u001b[0m\u001b[1;32m     29\u001b[0m     \u001b[0mTEXT\u001b[0m\u001b[0;34m.\u001b[0m\u001b[0mbuild_vocab\u001b[0m\u001b[0;34m(\u001b[0m\u001b[0mtrain_data\u001b[0m\u001b[0;34m)\u001b[0m \u001b[0;31m#If no specific vector embeddings are specified, Torchtext initializes random vector embeddings which would get updated during training through backpropagation.\u001b[0m\u001b[0;34m\u001b[0m\u001b[0;34m\u001b[0m\u001b[0m\n\u001b[1;32m     30\u001b[0m     \u001b[0mLABEL\u001b[0m\u001b[0;34m.\u001b[0m\u001b[0mbuild_vocab\u001b[0m\u001b[0;34m(\u001b[0m\u001b[0mtrain_data\u001b[0m\u001b[0;34m)\u001b[0m\u001b[0;34m\u001b[0m\u001b[0;34m\u001b[0m\u001b[0m\n",
            "\u001b[0;31mAttributeError\u001b[0m: module 'torchtext.datasets' has no attribute 'AG_NEWS'"
          ]
        }
      ]
    },
    {
      "cell_type": "code",
      "metadata": {
        "colab": {
          "base_uri": "https://localhost:8080/",
          "height": 280
        },
        "id": "tdI3mM0faiOp",
        "outputId": "dd0c158a-94f6-40cd-8b4b-d7404dc8752a"
      },
      "source": [
        "learning_rate = 2e-5\n",
        "batch_size = 32\n",
        "output_size = 2\n",
        "hidden_size = 16\n",
        "embedding_length = 100\n",
        "\n",
        "training_loss, training_acc, validation_loss, validation_acc, epochs = [], [], [], [], []\n",
        "\n",
        "model = RNN(batch_size, output_size, hidden_size, vocab_size, embedding_length)\n",
        "loss_fn = F.cross_entropy\n",
        "\n",
        "for epoch in range(10):\n",
        "    train_loss, train_acc = train_model(model, train_iter, epoch)\n",
        "    val_loss, val_acc = eval_model(model, valid_iter)\n",
        "    training_loss.append(train_loss)\n",
        "    training_acc.append(train_acc)\n",
        "    validation_loss.append(val_loss)\n",
        "    validation_acc.append(val_acc)\n",
        "    epochs.append(epoch)\n",
        "    \n",
        "    print(f'Epoch: {epoch+1}, Train Loss: {train_loss:.3f}, Train Acc: {train_acc:.2f}%, Val. Loss: {val_loss:3f}, Val. Acc: {val_acc:.2f}%')\n",
        "    \n",
        "test_loss, test_acc = eval_model(model, test_iter)\n",
        "print(f'Test Loss: {test_loss:.3f}, Test Acc: {test_acc:.2f}%')\n",
        "\n",
        "#No. of trianable parameters\n",
        "def count_parameters(model):\n",
        "    return sum(p.numel() for p in model.parameters() if p.requires_grad)\n",
        "    \n",
        "print(f'The model has {count_parameters(model):,} trainable parameters')"
      ],
      "execution_count": null,
      "outputs": [
        {
          "output_type": "error",
          "ename": "NameError",
          "evalue": "ignored",
          "traceback": [
            "\u001b[0;31m---------------------------------------------------------------------------\u001b[0m",
            "\u001b[0;31mNameError\u001b[0m                                 Traceback (most recent call last)",
            "\u001b[0;32m<ipython-input-12-3240ce05e889>\u001b[0m in \u001b[0;36m<module>\u001b[0;34m()\u001b[0m\n\u001b[1;32m      7\u001b[0m \u001b[0mtraining_loss\u001b[0m\u001b[0;34m,\u001b[0m \u001b[0mtraining_acc\u001b[0m\u001b[0;34m,\u001b[0m \u001b[0mvalidation_loss\u001b[0m\u001b[0;34m,\u001b[0m \u001b[0mvalidation_acc\u001b[0m\u001b[0;34m,\u001b[0m \u001b[0mepochs\u001b[0m \u001b[0;34m=\u001b[0m \u001b[0;34m[\u001b[0m\u001b[0;34m]\u001b[0m\u001b[0;34m,\u001b[0m \u001b[0;34m[\u001b[0m\u001b[0;34m]\u001b[0m\u001b[0;34m,\u001b[0m \u001b[0;34m[\u001b[0m\u001b[0;34m]\u001b[0m\u001b[0;34m,\u001b[0m \u001b[0;34m[\u001b[0m\u001b[0;34m]\u001b[0m\u001b[0;34m,\u001b[0m \u001b[0;34m[\u001b[0m\u001b[0;34m]\u001b[0m\u001b[0;34m\u001b[0m\u001b[0;34m\u001b[0m\u001b[0m\n\u001b[1;32m      8\u001b[0m \u001b[0;34m\u001b[0m\u001b[0m\n\u001b[0;32m----> 9\u001b[0;31m \u001b[0mmodel\u001b[0m \u001b[0;34m=\u001b[0m \u001b[0mRNN\u001b[0m\u001b[0;34m(\u001b[0m\u001b[0mbatch_size\u001b[0m\u001b[0;34m,\u001b[0m \u001b[0moutput_size\u001b[0m\u001b[0;34m,\u001b[0m \u001b[0mhidden_size\u001b[0m\u001b[0;34m,\u001b[0m \u001b[0mvocab_size\u001b[0m\u001b[0;34m,\u001b[0m \u001b[0membedding_length\u001b[0m\u001b[0;34m)\u001b[0m\u001b[0;34m\u001b[0m\u001b[0;34m\u001b[0m\u001b[0m\n\u001b[0m\u001b[1;32m     10\u001b[0m \u001b[0mloss_fn\u001b[0m \u001b[0;34m=\u001b[0m \u001b[0mF\u001b[0m\u001b[0;34m.\u001b[0m\u001b[0mcross_entropy\u001b[0m\u001b[0;34m\u001b[0m\u001b[0;34m\u001b[0m\u001b[0m\n\u001b[1;32m     11\u001b[0m \u001b[0;34m\u001b[0m\u001b[0m\n",
            "\u001b[0;31mNameError\u001b[0m: name 'vocab_size' is not defined"
          ]
        }
      ]
    },
    {
      "cell_type": "code",
      "metadata": {
        "id": "HirX1aFUk1wC"
      },
      "source": [
        "plt.plot(epochs, training_acc, label='training_accuracy')\n",
        "plt.plot(epochs, validation_acc, label='validation_accuracy')\n",
        "plt.legend(loc='lower right')\n",
        "plt.xlabel('epoch')\n",
        "plt.title('RNN on IMDB text classification')"
      ],
      "execution_count": null,
      "outputs": []
    },
    {
      "cell_type": "code",
      "metadata": {
        "id": "cXk7fQ6fp_dC"
      },
      "source": [
        "plt.plot(epochs, training_loss, label='training_loss')\n",
        "plt.plot(epochs, validation_loss, label='validation_loss')\n",
        "plt.legend(loc='lower right')\n",
        "plt.xlabel('epoch')\n",
        "plt.title('RNN on IMDB text classification')"
      ],
      "execution_count": null,
      "outputs": []
    },
    {
      "cell_type": "markdown",
      "metadata": {
        "id": "kXnDD1STxPNv"
      },
      "source": [
        "### RNN vs FNN"
      ]
    },
    {
      "cell_type": "code",
      "metadata": {
        "id": "L3f89wYQpgpq"
      },
      "source": [
        "class TextCNN(nn.Module):\n",
        "    def __init__(self, vocab_size, embed_size, kernel_sizes, num_channels,\n",
        "                 **kwargs):\n",
        "        #batch_size, output_size, hidden_size, vocab_size, embedding_length\n",
        "        super(TextCNN, self).__init__(**kwargs)\n",
        "        self.embedding = nn.Embedding(vocab_size, embed_size)\n",
        "        # The embedding layer does not participate in training\n",
        "        self.constant_embedding = nn.Embedding(vocab_size, embed_size)\n",
        "        self.dropout = nn.Dropout(0.5)\n",
        "        self.decoder = nn.Linear(sum(num_channels), 2)\n",
        "        # The max-over-time pooling layer has no weight, so it can share an\n",
        "        # instance\n",
        "        self.pool = nn.AdaptiveAvgPool1d(1)\n",
        "        self.relu = nn.ReLU()\n",
        "        # Create multiple one-dimensional convolutional layers\n",
        "        self.convs = nn.ModuleList()\n",
        "        for c, k in zip(num_channels, kernel_sizes):\n",
        "            self.convs.append(nn.Conv1d(2 * embed_size, c, k))\n",
        "\n",
        "    def forward(self, inputs):\n",
        "        # Concatenate the output of two embedding layers with shape of\n",
        "        # (batch size, no. of words, word vector dimension) by word vector\n",
        "        embeddings = torch.cat((\n",
        "            self.embedding(inputs), self.constant_embedding(inputs)), dim=2)\n",
        "        # According to the input format required by Conv1d, the word vector\n",
        "        # dimension, that is, the channel dimension of the one-dimensional\n",
        "        # convolutional layer, is transformed into the previous dimension\n",
        "        embeddings = embeddings.permute(0, 2, 1)\n",
        "        # For each one-dimensional convolutional layer, after max-over-time\n",
        "        # pooling, a tensor with the shape of (batch size, channel size, 1)\n",
        "        # can be obtained. Use the flatten function to remove the last\n",
        "        # dimension and then concatenate on the channel dimension\n",
        "        encoding = torch.cat([\n",
        "            torch.squeeze(self.relu(self.pool(conv(embeddings))), dim=-1)\n",
        "            for conv in self.convs], dim=1)\n",
        "        # After applying the dropout method, use a fully connected layer to\n",
        "        # obtain the output\n",
        "        outputs = self.decoder(self.dropout(encoding))\n",
        "        return outputs"
      ],
      "execution_count": null,
      "outputs": []
    },
    {
      "cell_type": "code",
      "metadata": {
        "id": "dt_sTnkYcQrK"
      },
      "source": [
        "def train_model1(model, train_iter, epoch, optim, loss_fn):\n",
        "    total_epoch_loss = 0\n",
        "    total_epoch_acc = 0\n",
        "    model.cuda()\n",
        "    # optim = torch.optim.Adam(filter(lambda p: p.requires_grad, model.parameters()))\n",
        "    steps = 0\n",
        "    model.train()\n",
        "    for idx, batch in enumerate(train_iter):\n",
        "        text = batch.text[0]\n",
        "        target = batch.label\n",
        "        target = torch.autograd.Variable(target).long()\n",
        "        if torch.cuda.is_available():\n",
        "            text = text.cuda()\n",
        "            target = target.cuda()\n",
        "\n",
        "        optim.zero_grad()\n",
        "        prediction = model(text)\n",
        "        \n",
        "        loss = loss_fn(prediction, target)\n",
        "\n",
        "        num_corrects = (torch.max(prediction, 1)[1].view(target.size()).data == target.data).float().sum()\n",
        "        acc = 100.0 * num_corrects/len(batch)\n",
        "        loss.backward()\n",
        "        \n",
        "        optim.step()\n",
        "        steps += 1\n",
        "        \n",
        "        if steps % 100 == 0:\n",
        "            print (f'Epoch: {epoch+1}, Idx: {idx+1}, Training Loss: {loss.item():.4f}, Training Accuracy: {acc.item(): .2f}%')\n",
        "        \n",
        "        total_epoch_loss += loss.item()\n",
        "        total_epoch_acc += acc.item()\n",
        "        \n",
        "    return total_epoch_loss/len(train_iter), total_epoch_acc/len(train_iter)\n"
      ],
      "execution_count": null,
      "outputs": []
    },
    {
      "cell_type": "code",
      "metadata": {
        "id": "XT42FG0nc7yE"
      },
      "source": [
        "def eval_model(model, val_iter):\n",
        "    total_epoch_loss = 0\n",
        "    total_epoch_acc = 0\n",
        "    model.eval()\n",
        "    with torch.no_grad():\n",
        "        for idx, batch in enumerate(val_iter):\n",
        "            text = batch.text[0]\n",
        "            if (text.size()[0] is not 32):\n",
        "                continue\n",
        "            target = batch.label\n",
        "            target = torch.autograd.Variable(target).long()\n",
        "            if torch.cuda.is_available():\n",
        "                text = text.cuda()\n",
        "                target = target.cuda()\n",
        "            prediction = model(text)\n",
        "            loss = loss_fn(prediction, target)\n",
        "            num_corrects = (torch.max(prediction, 1)[1].view(target.size()).data == target.data).sum()\n",
        "            acc = 100.0 * num_corrects/len(batch)\n",
        "            total_epoch_loss += loss.item()\n",
        "            total_epoch_acc += acc.item()\n",
        "\n",
        "    return total_epoch_loss/len(val_iter), total_epoch_acc/len(val_iter)"
      ],
      "execution_count": null,
      "outputs": []
    },
    {
      "cell_type": "code",
      "metadata": {
        "colab": {
          "base_uri": "https://localhost:8080/"
        },
        "id": "r_ssg4QLbIJX",
        "outputId": "f57e9951-f5cb-4a69-e236-2dd7d33f48c9"
      },
      "source": [
        "# TEXT, vocab_size, train_iter, valid_iter, test_iter \n",
        "embedding_length = 100\n",
        "kernel_sizes = [3, 4, 5]\n",
        "nums_channels = [100, 100, 100]\n",
        "net = TextCNN(vocab_size, embedding_length, kernel_sizes, nums_channels)\n",
        "\n",
        "def init_weights(m):\n",
        "    if type(m) in (nn.Linear, nn.Conv1d):\n",
        "        nn.init.xavier_uniform_(m.weight)\n",
        "\n",
        "net.apply(init_weights)\n"
      ],
      "execution_count": null,
      "outputs": [
        {
          "output_type": "execute_result",
          "data": {
            "text/plain": [
              "TextCNN(\n",
              "  (embedding): Embedding(251639, 100)\n",
              "  (constant_embedding): Embedding(251639, 100)\n",
              "  (dropout): Dropout(p=0.5, inplace=False)\n",
              "  (decoder): Linear(in_features=300, out_features=2, bias=True)\n",
              "  (pool): AdaptiveAvgPool1d(output_size=1)\n",
              "  (relu): ReLU()\n",
              "  (convs): ModuleList(\n",
              "    (0): Conv1d(200, 100, kernel_size=(3,), stride=(1,))\n",
              "    (1): Conv1d(200, 100, kernel_size=(4,), stride=(1,))\n",
              "    (2): Conv1d(200, 100, kernel_size=(5,), stride=(1,))\n",
              "  )\n",
              ")"
            ]
          },
          "metadata": {
            "tags": []
          },
          "execution_count": 123
        }
      ]
    },
    {
      "cell_type": "code",
      "metadata": {
        "colab": {
          "base_uri": "https://localhost:8080/"
        },
        "id": "MyE-8-r-cAFk",
        "outputId": "e3c6267b-2e6d-4917-a85b-e5bdbec43234"
      },
      "source": [
        "learning_rate = 0.001\n",
        "num_epochs = 5\n",
        "optimizer = torch.optim.Adam(net.parameters(), lr=learning_rate)\n",
        "loss_function = nn.CrossEntropyLoss()\n",
        "# loss_function = F.cross_entropy\n",
        "training_loss, training_acc, validation_loss, validation_acc, epochs = [], [], [], [], []\n",
        "\n",
        "for epoch in range(num_epochs):\n",
        "  train_loss, train_acc = train_model1(net, train_iter, epoch, optimizer, loss_function)\n",
        "  val_loss, val_acc = eval_model(net, valid_iter)\n",
        "  training_loss.append(train_loss)\n",
        "  training_acc.append(train_acc)\n",
        "  validation_loss.append(val_loss)\n",
        "  validation_acc.append(val_acc)\n",
        "  epochs.append(epoch)\n",
        "  \n",
        "  print(f'Epoch: {epoch+1}, Train Loss: {train_loss:.3f}, Train Acc: {train_acc:.2f}%, Val. Loss: {val_loss:3f}, Val. Acc: {val_acc:.2f}%')\n",
        "    \n",
        "test_loss, test_acc = eval_model(model, test_iter)\n",
        "print(f'Test Loss: {test_loss:.3f}, Test Acc: {test_acc:.2f}%')\n",
        "\n",
        "#No. of trianable parameters\n",
        "def count_parameters(model):\n",
        "    return sum(p.numel() for p in model.parameters() if p.requires_grad)\n",
        "    \n",
        "print(f'The model has {count_parameters(model):,} trainable parameters')\n"
      ],
      "execution_count": null,
      "outputs": [
        {
          "output_type": "stream",
          "text": [
            "Epoch: 1, Idx: 100, Training Loss: 0.4237, Training Accuracy:  81.25%\n",
            "Epoch: 1, Idx: 200, Training Loss: 0.5407, Training Accuracy:  75.00%\n",
            "Epoch: 1, Idx: 300, Training Loss: 0.3785, Training Accuracy:  75.00%\n",
            "Epoch: 1, Idx: 400, Training Loss: 0.4453, Training Accuracy:  68.75%\n",
            "Epoch: 1, Idx: 500, Training Loss: 0.4259, Training Accuracy:  84.38%\n",
            "Epoch: 1, Train Loss: 0.396, Train Acc: 82.43%, Val. Loss: 0.388686, Val. Acc: 82.11%\n",
            "Epoch: 2, Idx: 100, Training Loss: 0.1397, Training Accuracy:  96.88%\n",
            "Epoch: 2, Idx: 200, Training Loss: 0.3062, Training Accuracy:  90.62%\n",
            "Epoch: 2, Idx: 300, Training Loss: 0.2861, Training Accuracy:  84.38%\n",
            "Epoch: 2, Idx: 400, Training Loss: 0.1986, Training Accuracy:  90.62%\n",
            "Epoch: 2, Idx: 500, Training Loss: 0.1841, Training Accuracy:  90.62%\n",
            "Epoch: 2, Train Loss: 0.258, Train Acc: 89.50%, Val. Loss: 0.382923, Val. Acc: 84.26%\n",
            "Epoch: 3, Idx: 100, Training Loss: 0.1834, Training Accuracy:  90.62%\n",
            "Epoch: 3, Idx: 200, Training Loss: 0.1332, Training Accuracy:  93.75%\n",
            "Epoch: 3, Idx: 300, Training Loss: 0.1512, Training Accuracy:  90.62%\n",
            "Epoch: 3, Idx: 400, Training Loss: 0.1108, Training Accuracy:  93.75%\n",
            "Epoch: 3, Idx: 500, Training Loss: 0.1003, Training Accuracy:  93.75%\n",
            "Epoch: 3, Train Loss: 0.146, Train Acc: 94.73%, Val. Loss: 0.446187, Val. Acc: 82.93%\n",
            "Epoch: 4, Idx: 100, Training Loss: 0.0142, Training Accuracy:  100.00%\n",
            "Epoch: 4, Idx: 200, Training Loss: 0.0306, Training Accuracy:  100.00%\n",
            "Epoch: 4, Idx: 300, Training Loss: 0.0924, Training Accuracy:  96.88%\n",
            "Epoch: 4, Idx: 400, Training Loss: 0.1136, Training Accuracy:  96.88%\n",
            "Epoch: 4, Idx: 500, Training Loss: 0.0203, Training Accuracy:  100.00%\n",
            "Epoch: 4, Train Loss: 0.082, Train Acc: 97.01%, Val. Loss: 0.490697, Val. Acc: 84.60%\n",
            "Epoch: 5, Idx: 100, Training Loss: 0.1021, Training Accuracy:  93.75%\n",
            "Epoch: 5, Idx: 200, Training Loss: 0.0054, Training Accuracy:  100.00%\n",
            "Epoch: 5, Idx: 300, Training Loss: 0.0309, Training Accuracy:  100.00%\n",
            "Epoch: 5, Idx: 400, Training Loss: 0.1293, Training Accuracy:  93.75%\n",
            "Epoch: 5, Idx: 500, Training Loss: 0.0915, Training Accuracy:  96.88%\n",
            "Epoch: 5, Train Loss: 0.055, Train Acc: 98.10%, Val. Loss: 0.599014, Val. Acc: 83.99%\n",
            "Test Loss: 0.691, Test Acc: 52.75%\n",
            "The model has 25,169,406 trainable parameters\n"
          ],
          "name": "stdout"
        }
      ]
    },
    {
      "cell_type": "code",
      "metadata": {
        "colab": {
          "base_uri": "https://localhost:8080/",
          "height": 447
        },
        "id": "wh0n605fizmP",
        "outputId": "8809a6fa-2ddb-46d5-afe8-8711d6e96fba"
      },
      "source": [
        "plt.plot(epochs, training_acc, label='training_accuracy')\n",
        "plt.plot(epochs, validation_acc, label='validation_accuracy')\n",
        "plt.legend(loc='lower right')\n",
        "plt.xlabel('epoch')\n",
        "plt.title('CNN on IMDB text classification')"
      ],
      "execution_count": null,
      "outputs": [
        {
          "output_type": "execute_result",
          "data": {
            "text/plain": [
              "Text(0.5, 1.0, 'CNN on IMDB text classification')"
            ]
          },
          "metadata": {
            "tags": []
          },
          "execution_count": 126
        },
        {
          "output_type": "display_data",
          "data": {
            "image/png": "[encoded data removed]",
            "text/plain": [
              "<Figure size 576x432 with 1 Axes>"
            ]
          },
          "metadata": {
            "tags": [],
            "image/png": {
              "width": 558,
              "height": 413
            },
            "needs_background": "light"
          }
        }
      ]
    },
    {
      "cell_type": "code",
      "metadata": {
        "id": "-SfntBuZjC9p"
      },
      "source": [
        ""
      ],
      "execution_count": null,
      "outputs": []
    },
    {
      "cell_type": "code",
      "metadata": {
        "colab": {
          "base_uri": "https://localhost:8080/",
          "height": 447
        },
        "id": "dgYMfcQujEZe",
        "outputId": "4ad14ab0-aa5e-4337-c94e-9fc512735f4a"
      },
      "source": [
        "plt.plot(epochs, training_loss, label='training_loss')\n",
        "plt.plot(epochs, validation_loss, label='validation_loss')\n",
        "plt.legend(loc='lower right')\n",
        "plt.xlabel('epoch')\n",
        "plt.title('CNN on IMDB text classification')"
      ],
      "execution_count": null,
      "outputs": [
        {
          "output_type": "execute_result",
          "data": {
            "text/plain": [
              "Text(0.5, 1.0, 'CNN on IMDB text classification')"
            ]
          },
          "metadata": {
            "tags": []
          },
          "execution_count": 127
        },
        {
          "output_type": "display_data",
          "data": {
            "image/png": "[encoded data removed]",
            "text/plain": [
              "<Figure size 576x432 with 1 Axes>"
            ]
          },
          "metadata": {
            "tags": [],
            "image/png": {
              "width": 558,
              "height": 413
            },
            "needs_background": "light"
          }
        }
      ]
    },
    {
      "cell_type": "markdown",
      "metadata": {
        "id": "-eIRg2TVxVZX"
      },
      "source": [
        "### One Hot vs Embedding "
      ]
    },
    {
      "cell_type": "markdown",
      "metadata": {
        "id": "oYgqtChAwJGr"
      },
      "source": [
        "### Architectures "
      ]
    },
    {
      "cell_type": "markdown",
      "metadata": {
        "id": "dIhJv7ycxxsW"
      },
      "source": [
        "Add some fun applications??/Ask what could be an application for each architecture\n",
        "\n",
        "Speech to text: many to many - https://www.alienmaths.com/\n",
        "\n",
        "Image caption - https://blog.google/products/search/get-more-useful-information-captions-google-images/"
      ]
    },
    {
      "cell_type": "code",
      "metadata": {
        "id": "ivvmYva6wLGz"
      },
      "source": [
        "Image(url='https://blog.floydhub.com/content/images/2019/04/karpathy.jpeg', width = 700)"
      ],
      "execution_count": null,
      "outputs": []
    },
    {
      "cell_type": "markdown",
      "metadata": {
        "id": "1UUH2KjZw_IX"
      },
      "source": [
        "### Disadvantages"
      ]
    },
    {
      "cell_type": "markdown",
      "metadata": {
        "id": "3SXvP5FbhxEC"
      },
      "source": [
        "Problems with RNNs:\n",
        "\n",
        "* Vanishing gradients-\n",
        "In a long sequence, the gradients get multiplied by the weight matrix (transpose) at every time step. If there are small values in the weight matrix, the norm of gradients get smaller and smaller exponentially.\n",
        "* Exploding gradients-\n",
        "If we have a large weight matrix and the non-linearity in the recurrent layer is not saturating, the gradients will explode. The weights will diverge at the update step. We may have to use a tiny learning rate for the gradient descent to work.\n",
        "One reason to use RNNs is for the advantage of remembering information in the past. However, it could fail to memorize the information long ago in a simple RNN without tricks.\n",
        "\n",
        "An example that has vanishing gradient problem:\n",
        "\n",
        "The input is the characters from a C Program. The system will tell whether it is a syntactically correct program. A syntactically correct program should have a valid number of braces and parentheses. Thus, the network should remember how many open parentheses and braces there are to check, and whether we have closed them all. The network has to store such information in hidden states like a counter. However, because of vanishing gradients, it will fail to preserve such information in a long program."
      ]
    },
    {
      "cell_type": "markdown",
      "metadata": {
        "id": "fWY2WHX3niUM"
      },
      "source": [
        "#LSTMs\n",
        "\n",
        "* Exploding and vanishing gradients\n",
        "* How LSTMs work, architecture\n",
        "* Train an LSTM on the same problem and see improvement\n",
        "* biLSTMs - does it help? \n",
        "* Forgetting. learn a simple problem: does this sequence of characters contain a “0”? Do this first with a standard RNN, then with an LSTM, with the “0” further and further back from the end of the sequence."
      ]
    },
    {
      "cell_type": "markdown",
      "metadata": {
        "id": "NMZO8AImpl0r"
      },
      "source": [
        "# exploding and vanishing gradients in RNNs"
      ]
    },
    {
      "cell_type": "code",
      "metadata": {
        "id": "eUo4-hCAX2X4"
      },
      "source": [
        ""
      ],
      "execution_count": null,
      "outputs": []
    },
    {
      "cell_type": "markdown",
      "metadata": {
        "id": "o5EHHzS7pdRE"
      },
      "source": [
        "# LSTM architecture and training"
      ]
    },
    {
      "cell_type": "code",
      "metadata": {
        "id": "lkouuOq6XwHx"
      },
      "source": [
        ""
      ],
      "execution_count": null,
      "outputs": []
    },
    {
      "cell_type": "markdown",
      "metadata": {
        "id": "vcm5WLeHpiCv"
      },
      "source": [
        "# biLSTMs"
      ]
    },
    {
      "cell_type": "markdown",
      "metadata": {
        "id": "zn8Zb2vln4-5"
      },
      "source": [
        "# Uses of RNNs in  NLP\n",
        "\n",
        "video"
      ]
    },
    {
      "cell_type": "markdown",
      "metadata": {
        "id": "MFN2hbsxV8Uu"
      },
      "source": [
        "# Generation"
      ]
    },
    {
      "cell_type": "code",
      "metadata": {
        "id": "DamnwK3gAmof"
      },
      "source": [
        "! wget http://www.gutenberg.org/cache/epub/29765/pg29765.txt"
      ],
      "execution_count": null,
      "outputs": []
    },
    {
      "cell_type": "code",
      "metadata": {
        "id": "H5u-uGqFBeUL"
      },
      "source": [
        "! pip install unidecode"
      ],
      "execution_count": null,
      "outputs": []
    },
    {
      "cell_type": "code",
      "metadata": {
        "id": "ElXkHVq3cQ0L"
      },
      "source": [
        "# YOUR CODE HERE\n",
        "import unidecode\n",
        "import string\n",
        "import random\n",
        "import re\n",
        "\n",
        "# Get all printable characters for generation\n",
        "all_characters = string.printable\n",
        "n_characters = len(all_characters)\n",
        "\n",
        "# Read the input training file - Webster dictionary\n",
        "# file = unidecode.unidecode(open('shakespeare_input.txt').read())\n",
        "file = unidecode.unidecode(open('pg29765.txt').read()) # Comment the other one\n",
        "file_len = len(file)\n",
        "print('file_len =', file_len)"
      ],
      "execution_count": null,
      "outputs": []
    },
    {
      "cell_type": "code",
      "metadata": {
        "id": "bxuCDboF_kFe"
      },
      "source": [
        "# Print a random chunk from the training data \n",
        "def random_chunk(chunk_len):\n",
        "    start_index = random.randint(0, file_len - chunk_len)\n",
        "    end_index = start_index + chunk_len + 1\n",
        "    return file[start_index:end_index]\n",
        "\n",
        "chunk_len = 200\n",
        "print(random_chunk(chunk_len))"
      ],
      "execution_count": null,
      "outputs": []
    },
    {
      "cell_type": "code",
      "metadata": {
        "id": "RPeZi7cq_tNP"
      },
      "source": [
        "import torch\n",
        "import torch.nn as nn\n",
        "from torch.autograd import Variable\n",
        "\n",
        "# Define our RNN for character generation\n",
        "class RNN(nn.Module):\n",
        "    def __init__(self, input_size, hidden_size, output_size, n_layers=1):\n",
        "        super(RNN, self).__init__()\n",
        "        self.input_size = input_size\n",
        "        self.hidden_size = hidden_size\n",
        "        self.output_size = output_size\n",
        "        self.n_layers = n_layers\n",
        "        \n",
        "        self.encoder = nn.Embedding(input_size, hidden_size)\n",
        "        self.gru = nn.GRU(hidden_size, hidden_size, n_layers)\n",
        "        self.decoder = nn.Linear(hidden_size, output_size)\n",
        "    \n",
        "    def forward(self, input, hidden):\n",
        "        input = self.encoder(input.view(1, -1)) # What is the size of the input\n",
        "        output, hidden = self.gru(input.view(1, 1, -1), hidden)\n",
        "        output = self.decoder(output.view(1, -1))\n",
        "        return output, hidden\n",
        "\n",
        "    def init_hidden(self):\n",
        "        return Variable(torch.zeros(self.n_layers, 1, self.hidden_size))"
      ],
      "execution_count": null,
      "outputs": []
    },
    {
      "cell_type": "code",
      "metadata": {
        "id": "-pHPbfk7_urS"
      },
      "source": [
        "# Turn string into list of longs\n",
        "def char_tensor(string):\n",
        "    tensor = torch.zeros(len(string)).long()\n",
        "    for c in range(len(string)):\n",
        "        tensor[c] = all_characters.index(string[c])\n",
        "    return Variable(tensor)\n",
        "\n",
        "print(char_tensor('abcDEF')) # Indices of the chars in our character list"
      ],
      "execution_count": null,
      "outputs": []
    },
    {
      "cell_type": "code",
      "metadata": {
        "id": "e8iSF2tS_8Jp"
      },
      "source": [
        "# Get a random chunk from the traning data, \n",
        "# Convert its first n-1 chars into input char tensor\n",
        "# Convert its last n-1 chars into target char tensor\n",
        "def random_training_set():    \n",
        "    chunk = random_chunk(chunk_len)\n",
        "    inp = char_tensor(chunk[:-1])\n",
        "    target = char_tensor(chunk[1:])\n",
        "    return inp, target"
      ],
      "execution_count": null,
      "outputs": []
    },
    {
      "cell_type": "code",
      "metadata": {
        "id": "-rueqVibACZa"
      },
      "source": [
        "def evaluate(prime_str='A', predict_len=100, temperature=0.8):\n",
        "    hidden = decoder.init_hidden()\n",
        "    prime_input = char_tensor(prime_str)\n",
        "    predicted = prime_str\n",
        "\n",
        "    # Use priming string to \"build up\" hidden state\n",
        "    for p in range(len(prime_str) - 1):\n",
        "        _, hidden = decoder(prime_input[p], hidden)\n",
        "    inp = prime_input[-1]\n",
        "    \n",
        "    for p in range(predict_len):\n",
        "        output, hidden = decoder(inp, hidden)\n",
        "        \n",
        "        # Sample from the network as a multinomial distribution\n",
        "        output_dist = output.data.view(-1).div(temperature).exp()\n",
        "        top_i = torch.multinomial(output_dist, 1)[0]\n",
        "        \n",
        "        # Add predicted character to string and use as next input\n",
        "        predicted_char = all_characters[top_i]\n",
        "        predicted += predicted_char\n",
        "        inp = char_tensor(predicted_char)\n",
        "\n",
        "    return predicted"
      ],
      "execution_count": null,
      "outputs": []
    },
    {
      "cell_type": "code",
      "metadata": {
        "id": "B61cRrf6AD93"
      },
      "source": [
        "import time, math\n",
        "\n",
        "def time_since(since):\n",
        "    s = time.time() - since\n",
        "    m = math.floor(s / 60)\n",
        "    s -= m * 60\n",
        "    return '%dm %ds' % (m, s)"
      ],
      "execution_count": null,
      "outputs": []
    },
    {
      "cell_type": "code",
      "metadata": {
        "id": "4ZKyuqzCAJpC"
      },
      "source": [
        "# Single training step\n",
        "def train(inp, target):\n",
        "    # Initialize hidden state, zero the gradients of decoder \n",
        "    hidden = decoder.init_hidden()\n",
        "    decoder.zero_grad()\n",
        "    loss = 0\n",
        "\n",
        "    # For each character in our chunk (except last), compute the hidden and ouput\n",
        "    # Using each output, compute the loss with the corresponding target \n",
        "    for c in range(chunk_len):\n",
        "        output, hidden = decoder(inp[c], hidden)\n",
        "        loss += criterion(output, target[c].unsqueeze(0))\n",
        "\n",
        "    # Backpropagate and optimize\n",
        "    loss.backward()\n",
        "    decoder_optimizer.step()\n",
        "\n",
        "    # Return average loss\n",
        "    return loss.data.item() / chunk_len"
      ],
      "execution_count": null,
      "outputs": []
    },
    {
      "cell_type": "code",
      "metadata": {
        "id": "SPXpg39uAK0r"
      },
      "source": [
        "n_epochs = 1000\n",
        "print_every = 100\n",
        "plot_every = 10\n",
        "hidden_size = 100\n",
        "n_layers = 1\n",
        "lr = 0.005\n",
        "\n",
        "# Create model, optimizer and loss function\n",
        "decoder = RNN(n_characters, hidden_size, n_characters, n_layers)\n",
        "decoder_optimizer = torch.optim.Adam(decoder.parameters(), lr=lr)\n",
        "criterion = nn.CrossEntropyLoss()\n",
        "\n",
        "start = time.time()\n",
        "all_losses = []\n",
        "loss_avg = 0\n",
        "\n",
        "# For every epoch\n",
        "for epoch in range(1, n_epochs + 1):\n",
        "    # Get a random (input, target) pair from training set and perform one training iteration\n",
        "    loss = train(*random_training_set())       \n",
        "    loss_avg += loss\n",
        "\n",
        "    if epoch % print_every == 0:\n",
        "        print('[%s (%d %d%%) %.4f]' % (time_since(start), epoch, epoch / n_epochs * 100, loss))\n",
        "        text = evaluate('Wh', 100)\n",
        "        print('Predicted: ', text)\n",
        "        \n",
        "    if epoch % plot_every == 0:\n",
        "        all_losses.append(loss_avg / plot_every)\n",
        "        loss_avg = 0"
      ],
      "execution_count": null,
      "outputs": []
    },
    {
      "cell_type": "code",
      "metadata": {
        "id": "mWHTpfUjV2Is"
      },
      "source": [
        "torch.save(decoder.state_dict(), 'myGenerationModel.pt')"
      ],
      "execution_count": null,
      "outputs": []
    },
    {
      "cell_type": "code",
      "metadata": {
        "id": "Jb6xiFxpAdIk"
      },
      "source": [
        "import matplotlib.pyplot as plt\n",
        "import matplotlib.ticker as ticker\n",
        "%matplotlib inline\n",
        "\n",
        "plt.figure()\n",
        "plt.plot(all_losses)"
      ],
      "execution_count": null,
      "outputs": []
    },
    {
      "cell_type": "markdown",
      "metadata": {
        "id": "NBCGqVw7XHMO"
      },
      "source": [
        "# Tagging"
      ]
    },
    {
      "cell_type": "markdown",
      "metadata": {
        "id": "ThYoNqMDXs4t"
      },
      "source": [
        "# Seq2Seq "
      ]
    },
    {
      "cell_type": "markdown",
      "metadata": {
        "id": "5hk2dCsIeshT"
      },
      "source": [
        "\\< Working on the Machine Translation task. Source: . Converting it to a character level task (and will try to have Pig-Latin \\>"
      ]
    },
    {
      "cell_type": "code",
      "metadata": {
        "colab": {
          "base_uri": "https://localhost:8080/"
        },
        "id": "b_yi6DESlAgP",
        "outputId": "a779ef8f-7da9-4d2f-8427-415cd90e206a"
      },
      "source": [
        "!pip install d2l"
      ],
      "execution_count": null,
      "outputs": [
        {
          "output_type": "stream",
          "text": [
            "Collecting d2l\n",
            "\u001b[?25l  Downloading https://files.pythonhosted.org/packages/30/2b/3515cd6f2898bf95306a5c58b065aeb045fdc25516f2b68b0f8409e320c3/d2l-0.16.1-py3-none-any.whl (76kB)\n",
            "\r\u001b[K     |████▎                           | 10kB 19.2MB/s eta 0:00:01\r\u001b[K     |████████▌                       | 20kB 26.3MB/s eta 0:00:01\r\u001b[K     |████████████▉                   | 30kB 29.6MB/s eta 0:00:01\r\u001b[K     |█████████████████               | 40kB 32.9MB/s eta 0:00:01\r\u001b[K     |█████████████████████▍          | 51kB 27.8MB/s eta 0:00:01\r\u001b[K     |█████████████████████████▋      | 61kB 29.7MB/s eta 0:00:01\r\u001b[K     |██████████████████████████████  | 71kB 19.3MB/s eta 0:00:01\r\u001b[K     |████████████████████████████████| 81kB 9.1MB/s \n",
            "\u001b[?25hRequirement already satisfied: pandas in /usr/local/lib/python3.7/dist-packages (from d2l) (1.1.5)\n",
            "Requirement already satisfied: numpy in /usr/local/lib/python3.7/dist-packages (from d2l) (1.19.5)\n",
            "Requirement already satisfied: jupyter in /usr/local/lib/python3.7/dist-packages (from d2l) (1.0.0)\n",
            "Requirement already satisfied: matplotlib in /usr/local/lib/python3.7/dist-packages (from d2l) (3.2.2)\n",
            "Requirement already satisfied: pytz>=2017.2 in /usr/local/lib/python3.7/dist-packages (from pandas->d2l) (2018.9)\n",
            "Requirement already satisfied: python-dateutil>=2.7.3 in /usr/local/lib/python3.7/dist-packages (from pandas->d2l) (2.8.1)\n",
            "Requirement already satisfied: nbconvert in /usr/local/lib/python3.7/dist-packages (from jupyter->d2l) (5.6.1)\n",
            "Requirement already satisfied: jupyter-console in /usr/local/lib/python3.7/dist-packages (from jupyter->d2l) (5.2.0)\n",
            "Requirement already satisfied: notebook in /usr/local/lib/python3.7/dist-packages (from jupyter->d2l) (5.3.1)\n",
            "Requirement already satisfied: ipywidgets in /usr/local/lib/python3.7/dist-packages (from jupyter->d2l) (7.6.3)\n",
            "Requirement already satisfied: qtconsole in /usr/local/lib/python3.7/dist-packages (from jupyter->d2l) (5.0.2)\n",
            "Requirement already satisfied: ipykernel in /usr/local/lib/python3.7/dist-packages (from jupyter->d2l) (4.10.1)\n",
            "Requirement already satisfied: kiwisolver>=1.0.1 in /usr/local/lib/python3.7/dist-packages (from matplotlib->d2l) (1.3.1)\n",
            "Requirement already satisfied: cycler>=0.10 in /usr/local/lib/python3.7/dist-packages (from matplotlib->d2l) (0.10.0)\n",
            "Requirement already satisfied: pyparsing!=2.0.4,!=2.1.2,!=2.1.6,>=2.0.1 in /usr/local/lib/python3.7/dist-packages (from matplotlib->d2l) (2.4.7)\n",
            "Requirement already satisfied: six>=1.5 in /usr/local/lib/python3.7/dist-packages (from python-dateutil>=2.7.3->pandas->d2l) (1.15.0)\n",
            "Requirement already satisfied: nbformat>=4.4 in /usr/local/lib/python3.7/dist-packages (from nbconvert->jupyter->d2l) (5.1.2)\n",
            "Requirement already satisfied: mistune<2,>=0.8.1 in /usr/local/lib/python3.7/dist-packages (from nbconvert->jupyter->d2l) (0.8.4)\n",
            "Requirement already satisfied: pygments in /usr/local/lib/python3.7/dist-packages (from nbconvert->jupyter->d2l) (2.6.1)\n",
            "Requirement already satisfied: defusedxml in /usr/local/lib/python3.7/dist-packages (from nbconvert->jupyter->d2l) (0.6.0)\n",
            "Requirement already satisfied: jinja2>=2.4 in /usr/local/lib/python3.7/dist-packages (from nbconvert->jupyter->d2l) (2.11.3)\n",
            "Requirement already satisfied: jupyter-core in /usr/local/lib/python3.7/dist-packages (from nbconvert->jupyter->d2l) (4.7.1)\n",
            "Requirement already satisfied: traitlets>=4.2 in /usr/local/lib/python3.7/dist-packages (from nbconvert->jupyter->d2l) (5.0.5)\n",
            "Requirement already satisfied: pandocfilters>=1.4.1 in /usr/local/lib/python3.7/dist-packages (from nbconvert->jupyter->d2l) (1.4.3)\n",
            "Requirement already satisfied: bleach in /usr/local/lib/python3.7/dist-packages (from nbconvert->jupyter->d2l) (3.3.0)\n",
            "Requirement already satisfied: entrypoints>=0.2.2 in /usr/local/lib/python3.7/dist-packages (from nbconvert->jupyter->d2l) (0.3)\n",
            "Requirement already satisfied: testpath in /usr/local/lib/python3.7/dist-packages (from nbconvert->jupyter->d2l) (0.4.4)\n",
            "Requirement already satisfied: ipython in /usr/local/lib/python3.7/dist-packages (from jupyter-console->jupyter->d2l) (5.5.0)\n",
            "Requirement already satisfied: jupyter-client in /usr/local/lib/python3.7/dist-packages (from jupyter-console->jupyter->d2l) (5.3.5)\n",
            "Requirement already satisfied: prompt-toolkit<2.0.0,>=1.0.0 in /usr/local/lib/python3.7/dist-packages (from jupyter-console->jupyter->d2l) (1.0.18)\n",
            "Requirement already satisfied: terminado>=0.8.1 in /usr/local/lib/python3.7/dist-packages (from notebook->jupyter->d2l) (0.9.2)\n",
            "Requirement already satisfied: ipython-genutils in /usr/local/lib/python3.7/dist-packages (from notebook->jupyter->d2l) (0.2.0)\n",
            "Requirement already satisfied: Send2Trash in /usr/local/lib/python3.7/dist-packages (from notebook->jupyter->d2l) (1.5.0)\n",
            "Requirement already satisfied: tornado>=4 in /usr/local/lib/python3.7/dist-packages (from notebook->jupyter->d2l) (5.1.1)\n",
            "Requirement already satisfied: widgetsnbextension~=3.5.0 in /usr/local/lib/python3.7/dist-packages (from ipywidgets->jupyter->d2l) (3.5.1)\n",
            "Requirement already satisfied: jupyterlab-widgets>=1.0.0; python_version >= \"3.6\" in /usr/local/lib/python3.7/dist-packages (from ipywidgets->jupyter->d2l) (1.0.0)\n",
            "Requirement already satisfied: pyzmq>=17.1 in /usr/local/lib/python3.7/dist-packages (from qtconsole->jupyter->d2l) (22.0.3)\n",
            "Requirement already satisfied: qtpy in /usr/local/lib/python3.7/dist-packages (from qtconsole->jupyter->d2l) (1.9.0)\n",
            "Requirement already satisfied: jsonschema!=2.5.0,>=2.4 in /usr/local/lib/python3.7/dist-packages (from nbformat>=4.4->nbconvert->jupyter->d2l) (2.6.0)\n",
            "Requirement already satisfied: MarkupSafe>=0.23 in /usr/local/lib/python3.7/dist-packages (from jinja2>=2.4->nbconvert->jupyter->d2l) (1.1.1)\n",
            "Requirement already satisfied: webencodings in /usr/local/lib/python3.7/dist-packages (from bleach->nbconvert->jupyter->d2l) (0.5.1)\n",
            "Requirement already satisfied: packaging in /usr/local/lib/python3.7/dist-packages (from bleach->nbconvert->jupyter->d2l) (20.9)\n",
            "Requirement already satisfied: simplegeneric>0.8 in /usr/local/lib/python3.7/dist-packages (from ipython->jupyter-console->jupyter->d2l) (0.8.1)\n",
            "Requirement already satisfied: setuptools>=18.5 in /usr/local/lib/python3.7/dist-packages (from ipython->jupyter-console->jupyter->d2l) (54.0.0)\n",
            "Requirement already satisfied: pickleshare in /usr/local/lib/python3.7/dist-packages (from ipython->jupyter-console->jupyter->d2l) (0.7.5)\n",
            "Requirement already satisfied: pexpect; sys_platform != \"win32\" in /usr/local/lib/python3.7/dist-packages (from ipython->jupyter-console->jupyter->d2l) (4.8.0)\n",
            "Requirement already satisfied: decorator in /usr/local/lib/python3.7/dist-packages (from ipython->jupyter-console->jupyter->d2l) (4.4.2)\n",
            "Requirement already satisfied: wcwidth in /usr/local/lib/python3.7/dist-packages (from prompt-toolkit<2.0.0,>=1.0.0->jupyter-console->jupyter->d2l) (0.2.5)\n",
            "Requirement already satisfied: ptyprocess; os_name != \"nt\" in /usr/local/lib/python3.7/dist-packages (from terminado>=0.8.1->notebook->jupyter->d2l) (0.7.0)\n",
            "Installing collected packages: d2l\n",
            "Successfully installed d2l-0.16.1\n"
          ],
          "name": "stdout"
        }
      ]
    },
    {
      "cell_type": "code",
      "metadata": {
        "id": "i-D6dAcAk5n8"
      },
      "source": [
        "from d2l import torch as d2l\r\n",
        "import os\r\n",
        "import torch\r\n",
        "import math\r\n",
        "import collections\r\n",
        "import random"
      ],
      "execution_count": null,
      "outputs": []
    },
    {
      "cell_type": "markdown",
      "metadata": {
        "id": "2yC4qzsLf9Di"
      },
      "source": [
        "### Preprocessing"
      ]
    },
    {
      "cell_type": "code",
      "metadata": {
        "colab": {
          "base_uri": "https://localhost:8080/"
        },
        "id": "DVDWt-rVgCmI",
        "outputId": "cdda22d1-106c-42b7-ad34-c55ed16b577e"
      },
      "source": [
        "d2l.DATA_HUB['fra-eng'] = (d2l.DATA_URL + 'fra-eng.zip',\r\n",
        "                           '94646ad1522d915e7b0f9296181140edcf86a4f5')\r\n",
        "data_dir = d2l.download_extract('fra-eng')\r\n",
        "with open(os.path.join(data_dir, 'fra.txt'), 'r') as f:\r\n",
        "    raw_text = f.read()"
      ],
      "execution_count": null,
      "outputs": [
        {
          "output_type": "stream",
          "text": [
            "Downloading ../data/fra-eng.zip from http://d2l-data.s3-accelerate.amazonaws.com/fra-eng.zip...\n"
          ],
          "name": "stdout"
        }
      ]
    },
    {
      "cell_type": "code",
      "metadata": {
        "origin_pos": 7,
        "tab": [
          "pytorch"
        ],
        "id": "EEmz0KaffOuT",
        "colab": {
          "base_uri": "https://localhost:8080/"
        },
        "outputId": "e6d68580-db43-454d-b1b3-197298db7709"
      },
      "source": [
        "#@save\n",
        "def preprocess_nmt(text):\n",
        "    \"\"\"Preprocess the English-French dataset.\"\"\"\n",
        "    def no_space(char, prev_char):\n",
        "        return char in set(',.!?') and prev_char != ' '\n",
        "\n",
        "    # Replace non-breaking space with space, and convert uppercase letters to\n",
        "    # lowercase ones\n",
        "    text = text.replace('\\u202f', ' ').replace('\\xa0', ' ').lower()\n",
        "    # Insert space between words and punctuation marks\n",
        "    out = [' ' + char if i > 0 and no_space(char, text[i - 1]) else char\n",
        "           for i, char in enumerate(text)]\n",
        "    return ''.join(out)\n",
        "    # return text\n",
        "\n",
        "text = preprocess_nmt(raw_text)\n",
        "print(text[:80])"
      ],
      "execution_count": null,
      "outputs": [
        {
          "output_type": "stream",
          "text": [
            "go .\tva !\n",
            "hi .\tsalut !\n",
            "run !\tcours !\n",
            "run !\tcourez !\n",
            "who ?\tqui ?\n",
            "wow !\tça alors !\n"
          ],
          "name": "stdout"
        }
      ]
    },
    {
      "cell_type": "markdown",
      "metadata": {
        "origin_pos": 8,
        "id": "AQnwhRsrfOuU"
      },
      "source": [
        "## Tokenization\n"
      ]
    },
    {
      "cell_type": "code",
      "metadata": {
        "origin_pos": 9,
        "tab": [
          "pytorch"
        ],
        "id": "3403Sw-xfOuV",
        "colab": {
          "base_uri": "https://localhost:8080/"
        },
        "outputId": "d2d27336-5e3b-43a0-f9a5-5f9cb0e7ba28"
      },
      "source": [
        "#@save\n",
        "def tokenize_nmt(text, num_examples=None):\n",
        "    \"\"\"Tokenize the English-French dataset.\"\"\"\n",
        "    source, target = [], []\n",
        "    source_char_set = set()\n",
        "    target_char_set = set()\n",
        "    for i, line in enumerate(text.split('\\n')):\n",
        "        if num_examples and i > num_examples:\n",
        "            break\n",
        "        parts = line.split('\\t')\n",
        "        if len(parts) == 2:\n",
        "            src_txt, tgt_txt = parts\n",
        "            cur_src, cur_tgt = [], []\n",
        "            for c in src_txt:\n",
        "                cur_src.append(c)\n",
        "                source_char_set.add(c)\n",
        "            for c in tgt_txt:\n",
        "                cur_tgt.append(c)\n",
        "                target_char_set.add(c)\n",
        "            source.append(cur_src)\n",
        "            target.append(cur_tgt)\n",
        "\n",
        "    special_tokens = ['<eos>', '<bos>', '<pad>']\n",
        "    for tok in special_tokens:\n",
        "        source_char_set.add(tok)\n",
        "        target_char_set.add(tok)    \n",
        "    return source, target, sorted(list(source_char_set)), sorted(list(target_char_set)) \n",
        "\n",
        "source, target, source_vocab, target_vocab = tokenize_nmt(text)\n",
        "source_idx2token = dict((i, char) for i, char in enumerate(source_vocab))\n",
        "target_idx2token = dict((i, char) for i, char in enumerate(target_vocab))\n",
        "source_vocab = dict((char, i) for i, char in enumerate(source_vocab))\n",
        "target_vocab = dict((char, i) for i, char in enumerate(target_vocab))\n",
        "print(len(source), len(target))\n",
        "source[:6], target[:6]"
      ],
      "execution_count": null,
      "outputs": [
        {
          "output_type": "stream",
          "text": [
            "167130 167130\n"
          ],
          "name": "stdout"
        },
        {
          "output_type": "execute_result",
          "data": {
            "text/plain": [
              "([['g', 'o', ' ', '.'],\n",
              "  ['h', 'i', ' ', '.'],\n",
              "  ['r', 'u', 'n', ' ', '!'],\n",
              "  ['r', 'u', 'n', ' ', '!'],\n",
              "  ['w', 'h', 'o', ' ', '?'],\n",
              "  ['w', 'o', 'w', ' ', '!']],\n",
              " [['v', 'a', ' ', '!'],\n",
              "  ['s', 'a', 'l', 'u', 't', ' ', '!'],\n",
              "  ['c', 'o', 'u', 'r', 's', ' ', '!'],\n",
              "  ['c', 'o', 'u', 'r', 'e', 'z', ' ', '!'],\n",
              "  ['q', 'u', 'i', ' ', '?'],\n",
              "  ['ç', 'a', ' ', 'a', 'l', 'o', 'r', 's', ' ', '!']])"
            ]
          },
          "metadata": {
            "tags": []
          },
          "execution_count": 5
        }
      ]
    },
    {
      "cell_type": "code",
      "metadata": {
        "id": "aV5VlxdaIQ4h"
      },
      "source": [
        "# Can remove later\r\n",
        "data = list(zip(source, target))\r\n",
        "source_sample=[]\r\n",
        "target_sample=[]\r\n",
        "for a,b in random.sample(data, 10000):\r\n",
        "    source_sample.append(a)\r\n",
        "    target_sample.append(b)\r\n",
        "source = source_sample\r\n",
        "target = target_sample\r\n",
        "\r\n",
        "NUM_STEPS = 100\r\n",
        "# NUM_STEPS = max(max([len(s) for s in source]), max([len(t) for t in target]))"
      ],
      "execution_count": null,
      "outputs": []
    },
    {
      "cell_type": "markdown",
      "metadata": {
        "origin_pos": 12,
        "id": "ve74aqidfOua"
      },
      "source": [
        "## Vocabulary\n",
        "\n",
        "Since the machine translation dataset\n",
        "consists of pairs of languages,\n",
        "we can build two vocabularies for\n",
        "both the source language and\n",
        "the target language separately.\n",
        "With word-level tokenization,\n",
        "the vocabulary size will be significantly larger\n",
        "than that using character-level tokenization.\n",
        "To alleviate this,\n",
        "here we treat infrequent tokens\n",
        "that appear less than 2 times\n",
        "as the same unknown (\"&lt;unk&gt;\") token.\n",
        "Besides that,\n",
        "we specify additional special tokens\n",
        "such as for padding (\"&lt;pad&gt;\") sequences to the same length in minibatches,\n",
        "and for marking the beginning (\"&lt;bos&gt;\") or end (\"&lt;eos&gt;\") of sequences.\n",
        "Such special tokens are commonly used in\n",
        "natural language processing tasks.\n"
      ]
    },
    {
      "cell_type": "code",
      "metadata": {
        "origin_pos": 15,
        "tab": [
          "pytorch"
        ],
        "id": "R6x0WGjpfOue",
        "colab": {
          "base_uri": "https://localhost:8080/"
        },
        "outputId": "c425164e-b246-4598-f6c2-a5c54ef1ae67"
      },
      "source": [
        "#@save\n",
        "def truncate_pad(line, num_steps, padding_token):\n",
        "    \"\"\"Truncate or pad sequences.\"\"\"\n",
        "    if len(line) > num_steps:\n",
        "        return line[:num_steps]  # Truncate\n",
        "    return line + [padding_token] * (num_steps - len(line))  # Pad\n",
        "\n",
        "input = [source_vocab[c] for c in source[0]]\n",
        "print(input)\n",
        "truncate_pad(input, 10, source_vocab['<pad>'])"
      ],
      "execution_count": null,
      "outputs": [
        {
          "output_type": "stream",
          "text": [
            "[36, 0, 29, 39, 28, 40, 32, 0, 47, 42, 40, 0, 33, 42, 45, 0, 50, 35, 28, 47, 0, 35, 28, 43, 43, 32, 41, 32, 31, 0, 47, 42, 0, 28, 39, 39, 0, 42, 33, 0, 48, 46, 0, 10]\n"
          ],
          "name": "stdout"
        },
        {
          "output_type": "execute_result",
          "data": {
            "text/plain": [
              "[36, 0, 29, 39, 28, 40, 32, 0, 47, 42]"
            ]
          },
          "metadata": {
            "tags": []
          },
          "execution_count": 7
        }
      ]
    },
    {
      "cell_type": "code",
      "metadata": {
        "origin_pos": 17,
        "tab": [
          "pytorch"
        ],
        "id": "KbgiRfyIfOuj"
      },
      "source": [
        "#@save\n",
        "def build_array_nmt(data, vocab, num_steps):\n",
        "    \"\"\"Transform text sequences of machine translation into minibatches.\"\"\"\n",
        "    complete_data, lengths = [], []\n",
        "    for lines in data:\n",
        "        lines = [vocab[l] for l in lines]\n",
        "        lines.append(vocab['<eos>'])\n",
        "        array = torch.tensor(truncate_pad(lines, num_steps, vocab['<pad>']))\n",
        "        valid_len = (array != vocab['<pad>']).type(torch.int32).sum(0)\n",
        "        complete_data.append(array)\n",
        "        lengths.append(valid_len.item())\n",
        "    return torch.stack(complete_data), torch.tensor(lengths)"
      ],
      "execution_count": null,
      "outputs": []
    },
    {
      "cell_type": "code",
      "metadata": {
        "id": "jVY9ZxYK6AkF"
      },
      "source": [
        "class MTDataset(torch.utils.data.Dataset):\r\n",
        "    'Characterizes a dataset for PyTorch'\r\n",
        "\r\n",
        "    def __init__(self, source, target):\r\n",
        "        'Initialization'\r\n",
        "        source_data, source_lens = build_array_nmt(source, source_vocab, NUM_STEPS)        \r\n",
        "        target_data, target_lens = build_array_nmt(target, target_vocab, NUM_STEPS)\r\n",
        "        self.source = source_data\r\n",
        "        self.source_len = source_lens\r\n",
        "        self.target = target_data\r\n",
        "        self.target_len = target_lens\r\n",
        "\r\n",
        "    def __len__(self):\r\n",
        "        'Denotes the total number of samples'\r\n",
        "        return len(self.source)\r\n",
        "\r\n",
        "    def __getitem__(self, index):\r\n",
        "        'Generates one sample of data'\r\n",
        "        # Select sample\r\n",
        "        return self.source[index], self.source_len[index], self.target[index], self.target_len[index]"
      ],
      "execution_count": null,
      "outputs": []
    },
    {
      "cell_type": "code",
      "metadata": {
        "id": "SL7iX7l-2jGz"
      },
      "source": [
        "# Data loaders\r\n",
        "dataset = MTDataset(source, target)\r\n",
        "dataloader = torch.utils.data.DataLoader(dataset, batch_size=64)"
      ],
      "execution_count": null,
      "outputs": []
    },
    {
      "cell_type": "code",
      "metadata": {
        "origin_pos": 19,
        "tab": [
          "pytorch"
        ],
        "id": "x_P_CpcjfOun"
      },
      "source": [
        "# #@save\n",
        "# def load_data_nmt(batch_size, num_steps, num_examples=600):\n",
        "#     \"\"\"Return the iterator and the vocabularies of the translation dataset.\"\"\"\n",
        "#     text = preprocess_nmt(read_data_nmt())\n",
        "#     source, target = tokenize_nmt(text, num_examples)\n",
        "#     src_vocab = d2l.Vocab(source, min_freq=2,\n",
        "#                           reserved_tokens=['<pad>', '<bos>', '<eos>'])\n",
        "#     tgt_vocab = d2l.Vocab(target, min_freq=2,\n",
        "#                           reserved_tokens=['<pad>', '<bos>', '<eos>'])\n",
        "#     src_array, src_valid_len = build_array_nmt(source, src_vocab, num_steps)\n",
        "#     tgt_array, tgt_valid_len = build_array_nmt(target, tgt_vocab, num_steps)\n",
        "#     data_arrays = (src_array, src_valid_len, tgt_array, tgt_valid_len)\n",
        "#     data_iter = d2l.load_array(data_arrays, batch_size)\n",
        "#     return data_iter, src_vocab, tgt_vocab"
      ],
      "execution_count": null,
      "outputs": []
    },
    {
      "cell_type": "markdown",
      "metadata": {
        "id": "46yWeKnsgVtQ"
      },
      "source": [
        "### Encoder"
      ]
    },
    {
      "cell_type": "code",
      "metadata": {
        "id": "kU4cY7gtgZgo"
      },
      "source": [
        "from torch import nn\r\n",
        "\r\n",
        "#@save\r\n",
        "class Encoder(nn.Module):\r\n",
        "    \"\"\"The RNN encoder for sequence to sequence learning.\"\"\"\r\n",
        "    def __init__(self, vocab_size, embed_size, num_hiddens, num_layers,\r\n",
        "                 dropout=0):\r\n",
        "        super(Encoder, self).__init__()\r\n",
        "        # Embedding layer\r\n",
        "        self.embedding = nn.Embedding(vocab_size, embed_size)\r\n",
        "        self.rnn = nn.LSTM(embed_size, num_hiddens, num_layers,\r\n",
        "                          dropout=dropout)\r\n",
        "\r\n",
        "    def forward(self, X):\r\n",
        "        # The output `X` shape: (`batch_size`, `num_steps`, `embed_size`)\r\n",
        "        X = self.embedding(X)\r\n",
        "        # In RNN models, the first axis corresponds to time steps\r\n",
        "        X = X.permute(1, 0, 2)\r\n",
        "        # When state is not mentioned, it defaults to zeros\r\n",
        "        output, state = self.rnn(X)\r\n",
        "        # `output` shape: (`num_steps`, `batch_size`, `num_hiddens`)\r\n",
        "        # `state` shape: (`num_layers`, `batch_size`, `num_hiddens`)\r\n",
        "        return output, state"
      ],
      "execution_count": null,
      "outputs": []
    },
    {
      "cell_type": "code",
      "metadata": {
        "colab": {
          "base_uri": "https://localhost:8080/"
        },
        "id": "RfBWoxjChm4L",
        "outputId": "14515aa0-3f36-452c-b8b0-067292a6929e"
      },
      "source": [
        "encoder = Encoder(vocab_size=10, embed_size=8, num_hiddens=16,\r\n",
        "                         num_layers=2)\r\n",
        "encoder.eval()\r\n",
        "X = torch.zeros((4, 7), dtype=torch.long)\r\n",
        "output, state = encoder(X)\r\n",
        "output.shape"
      ],
      "execution_count": null,
      "outputs": [
        {
          "output_type": "execute_result",
          "data": {
            "text/plain": [
              "torch.Size([7, 4, 16])"
            ]
          },
          "metadata": {
            "tags": []
          },
          "execution_count": 13
        }
      ]
    },
    {
      "cell_type": "markdown",
      "metadata": {
        "id": "87-sbwn1ga6B"
      },
      "source": [
        "### Decoder"
      ]
    },
    {
      "cell_type": "code",
      "metadata": {
        "id": "6rF0R8p2gcw1"
      },
      "source": [
        "#@save\r\n",
        "class Decoder(nn.Module):\r\n",
        "    \"\"\"The RNN decoder for sequence to sequence learning.\"\"\"\r\n",
        "    def __init__(self, vocab_size, embed_size, num_hiddens, num_layers,\r\n",
        "                 dropout=0):\r\n",
        "        super(Decoder, self).__init__()\r\n",
        "        self.embedding = nn.Embedding(vocab_size, embed_size)\r\n",
        "        \r\n",
        "        self.rnn = nn.LSTM(embed_size + num_hiddens, num_hiddens, num_layers,\r\n",
        "                          dropout=dropout)\r\n",
        "        self.dense = nn.Linear(num_hiddens, vocab_size)\r\n",
        "\r\n",
        "    def init_state(self, enc_outputs):\r\n",
        "        return enc_outputs[1]\r\n",
        "\r\n",
        "    def forward(self, X, state):\r\n",
        "        # The output `X` shape: (`num_steps`, `batch_size`, `embed_size`)\r\n",
        "        X = self.embedding(X).permute(1, 0, 2)\r\n",
        "        # Broadcast `context` so it has the same `num_steps` as `X`\r\n",
        "        context = state[-1].repeat(X.shape[0], 1, 1)\r\n",
        "        X_and_context = torch.cat((X, context), 2)\r\n",
        "        output, state = self.rnn(X_and_context, state)\r\n",
        "        output = self.dense(output).permute(1, 0, 2)\r\n",
        "        # `output` shape: (`batch_size`, `num_steps`, `vocab_size`)\r\n",
        "        # `state` shape: (`num_layers`, `batch_size`, `num_hiddens`)\r\n",
        "        return output, state"
      ],
      "execution_count": null,
      "outputs": []
    },
    {
      "cell_type": "code",
      "metadata": {
        "colab": {
          "base_uri": "https://localhost:8080/"
        },
        "id": "2PBPIBgOiAFV",
        "outputId": "3bff60ec-cc1d-4229-b81b-e2207454cd1c"
      },
      "source": [
        "decoder = Decoder(vocab_size=10, embed_size=8, num_hiddens=16,\r\n",
        "                         num_layers=2)\r\n",
        "decoder.eval()\r\n",
        "state = decoder.init_state(encoder(X))\r\n",
        "output, state = decoder(X, state)\r\n",
        "output.shape, state.shape"
      ],
      "execution_count": null,
      "outputs": [
        {
          "output_type": "execute_result",
          "data": {
            "text/plain": [
              "(torch.Size([4, 7, 10]), torch.Size([2, 4, 16]))"
            ]
          },
          "metadata": {
            "tags": []
          },
          "execution_count": 15
        }
      ]
    },
    {
      "cell_type": "markdown",
      "metadata": {
        "id": "zFHN64BEgkHP"
      },
      "source": [
        "### Putting it together"
      ]
    },
    {
      "cell_type": "code",
      "metadata": {
        "id": "oFJ9CvxIgp4_"
      },
      "source": [
        "#@save\r\n",
        "class EncoderDecoder(nn.Module):\r\n",
        "    \"\"\"The base class for the encoder-decoder architecture.\"\"\"\r\n",
        "    def __init__(self, encoder, decoder):\r\n",
        "        super(EncoderDecoder, self).__init__()\r\n",
        "        self.encoder = encoder\r\n",
        "        self.decoder = decoder\r\n",
        "\r\n",
        "    def forward(self, enc_X, dec_X):\r\n",
        "        enc_outputs = self.encoder(enc_X)\r\n",
        "        dec_state = self.decoder.init_state(enc_outputs)\r\n",
        "        return self.decoder(dec_X, dec_state)"
      ],
      "execution_count": null,
      "outputs": []
    },
    {
      "cell_type": "code",
      "metadata": {
        "colab": {
          "base_uri": "https://localhost:8080/"
        },
        "id": "XIHjicCUgrOT",
        "outputId": "e5c6b08e-62af-41b6-c09d-d0421e3b3fe5"
      },
      "source": [
        "def sequence_mask(X, valid_len, value=0):\r\n",
        "    \"\"\"Mask irrelevant entries in sequences.\"\"\"\r\n",
        "    maxlen = X.size(1)\r\n",
        "    mask = torch.arange((maxlen), dtype=torch.float32,\r\n",
        "                        device=X.device)[None, :] < valid_len[:, None]\r\n",
        "    X[~mask] = value\r\n",
        "    return X\r\n",
        "\r\n",
        "X = torch.tensor([[1, 2, 3], [4, 5, 6]])\r\n",
        "sequence_mask(X, torch.tensor([1, 2]))"
      ],
      "execution_count": null,
      "outputs": [
        {
          "output_type": "execute_result",
          "data": {
            "text/plain": [
              "tensor([[1, 0, 0],\n",
              "        [4, 5, 0]])"
            ]
          },
          "metadata": {
            "tags": []
          },
          "execution_count": 17
        }
      ]
    },
    {
      "cell_type": "code",
      "metadata": {
        "id": "NWSPEJLWioLP"
      },
      "source": [
        "#@save\r\n",
        "class MaskedSoftmaxCELoss(nn.CrossEntropyLoss):\r\n",
        "    \"\"\"The softmax cross-entropy loss with masks.\"\"\"\r\n",
        "    # `pred` shape: (`batch_size`, `num_steps`, `vocab_size`)\r\n",
        "    # `label` shape: (`batch_size`, `num_steps`)\r\n",
        "    # `valid_len` shape: (`batch_size`,)\r\n",
        "    def forward(self, pred, label, valid_len):\r\n",
        "        weights = torch.ones_like(label)\r\n",
        "        weights = sequence_mask(weights, valid_len)\r\n",
        "        self.reduction='none'\r\n",
        "        unweighted_loss = super(MaskedSoftmaxCELoss, self).forward(\r\n",
        "            pred.permute(0, 2, 1), label)\r\n",
        "        weighted_loss = (unweighted_loss * weights).mean(dim=1)\r\n",
        "        return weighted_loss"
      ],
      "execution_count": null,
      "outputs": []
    },
    {
      "cell_type": "code",
      "metadata": {
        "colab": {
          "base_uri": "https://localhost:8080/"
        },
        "id": "kCcs4U6iisJ4",
        "outputId": "20fc1131-6cb9-40e4-b9ff-d0f11463922f"
      },
      "source": [
        "loss = MaskedSoftmaxCELoss()\r\n",
        "loss(torch.ones(3, 4, 10), torch.ones((3, 4), dtype=torch.long),\r\n",
        "     torch.tensor([4, 2, 0]))"
      ],
      "execution_count": null,
      "outputs": [
        {
          "output_type": "execute_result",
          "data": {
            "text/plain": [
              "tensor([2.3026, 1.1513, 0.0000])"
            ]
          },
          "metadata": {
            "tags": []
          },
          "execution_count": 19
        }
      ]
    },
    {
      "cell_type": "markdown",
      "metadata": {
        "id": "ntTADXQxjTFk"
      },
      "source": [
        "### Training"
      ]
    },
    {
      "cell_type": "code",
      "metadata": {
        "origin_pos": 32,
        "tab": [
          "pytorch"
        ],
        "id": "XGk5edV6g7E7"
      },
      "source": [
        "#@save\n",
        "def train_seq2seq(net, data_loader, lr, num_epochs, tgt_vocab, device):\n",
        "    \"\"\"Train a model for sequence to sequence.\"\"\"\n",
        "    def xavier_init_weights(m):\n",
        "        if type(m) == nn.Linear:\n",
        "            nn.init.xavier_uniform_(m.weight)\n",
        "        if type(m) == nn.GRU:\n",
        "            for param in m._flat_weights_names:\n",
        "                if \"weight\" in param:\n",
        "                    nn.init.xavier_uniform_(m._parameters[param])\n",
        "    net.apply(xavier_init_weights)\n",
        "    net.to(device)\n",
        "    optimizer = torch.optim.Adam(net.parameters(), lr=lr)\n",
        "    loss = MaskedSoftmaxCELoss()\n",
        "    net.train()\n",
        "    animator = d2l.Animator(xlabel='epoch', ylabel='loss',\n",
        "                            xlim=[10, num_epochs])\n",
        "    for epoch in range(num_epochs):\n",
        "        # TODO: without d2l?\n",
        "        timer = d2l.Timer()\n",
        "        metric = d2l.Accumulator(2)  # Sum of training loss, no. of tokens\n",
        "        for batch in dataloader:\n",
        "            X, X_valid_len, Y, Y_valid_len = [x.to(device) for x in batch]\n",
        "            bos = torch.tensor([tgt_vocab['<bos>']] * Y.shape[0],\n",
        "                               device=device).reshape(-1, 1)\n",
        "            # print(bos.shape)\n",
        "            dec_input = torch.cat([bos, Y[:, :-1]], 1)  # Teacher forcing\n",
        "            Y_hat, _ = net(X, dec_input)\n",
        "            l = loss(Y_hat, Y, Y_valid_len)\n",
        "            l.sum().backward()  # Make the loss scalar for `backward`\n",
        "            # TOOD: Clip gradients without d2l\n",
        "            d2l.grad_clipping(net, 1)\n",
        "            num_tokens = Y_valid_len.sum()\n",
        "            optimizer.step()\n",
        "            with torch.no_grad():\n",
        "                metric.add(l.sum(), num_tokens)\n",
        "\n",
        "            # break\n",
        "        # break\n",
        "        if (epoch + 1) % 10 == 0:\n",
        "            animator.add(epoch + 1, (metric[0] / metric[1],))\n",
        "    print(f'loss {metric[0] / metric[1]:.3f}, {metric[1] / timer.stop():.1f} '\n",
        "          f'tokens/sec on {str(device)}')"
      ],
      "execution_count": null,
      "outputs": []
    },
    {
      "cell_type": "code",
      "metadata": {
        "colab": {
          "base_uri": "https://localhost:8080/",
          "height": 279
        },
        "id": "hEwHHZM69cQO",
        "outputId": "21b35210-6762-454b-dc04-95c9546c3e07"
      },
      "source": [
        "embed_size, num_hiddens, num_layers, dropout = 32, 256, 2, 0.1\r\n",
        "# batch_size, num_steps = 64, 10\r\n",
        "lr, num_epochs, device = 0.005, 500, torch.device(\"cuda\" if torch.cuda.is_available() else \"cpu\")\r\n",
        "\r\n",
        "# train_iter, src_vocab, tgt_vocab = d2l.load_data_nmt(batch_size, num_steps)\r\n",
        "encoder = Encoder(\r\n",
        "    len(source_vocab), embed_size, num_hiddens, num_layers, dropout)\r\n",
        "decoder = Decoder(\r\n",
        "    len(target_vocab), embed_size, num_hiddens, num_layers, dropout)\r\n",
        "net = EncoderDecoder(encoder, decoder)\r\n",
        "train_seq2seq(net, dataloader, lr, num_epochs, target_vocab, device)"
      ],
      "execution_count": null,
      "outputs": [
        {
          "output_type": "stream",
          "text": [
            "loss 0.013, 127296.4 tokens/sec on cuda\n"
          ],
          "name": "stdout"
        },
        {
          "output_type": "display_data",
          "data": {
            "text/plain": [
              "<Figure size 252x180 with 1 Axes>"
            ],
            "image/svg+xml": "<?xml version=\"1.0\" encoding=\"utf-8\" standalone=\"no\"?>\n<!DOCTYPE svg PUBLIC \"-//W3C//DTD SVG 1.1//EN\"\n  \"http://www.w3.org/Graphics/SVG/1.1/DTD/svg11.dtd\">\n<!-- Created with matplotlib (https://matplotlib.org/) -->\n<svg height=\"180.65625pt\" version=\"1.1\" viewBox=\"0 0 274.9125 180.65625\" width=\"274.9125pt\" xmlns=\"http://www.w3.org/2000/svg\" xmlns:xlink=\"http://www.w3.org/1999/xlink\">\n <defs>\n  <style type=\"text/css\">\n*{stroke-linecap:butt;stroke-linejoin:round;}\n  </style>\n </defs>\n <g id=\"figure_1\">\n  <g id=\"patch_1\">\n   <path d=\"M 0 180.65625 \nL 274.9125 180.65625 \nL 274.9125 0 \nL 0 0 \nz\n\" style=\"fill:none;\"/>\n  </g>\n  <g id=\"axes_1\">\n   <g id=\"patch_2\">\n    <path d=\"M 62.86875 143.1 \nL 258.16875 143.1 \nL 258.16875 7.2 \nL 62.86875 7.2 \nz\n\" style=\"fill:#ffffff;\"/>\n   </g>\n   <g id=\"matplotlib.axis_1\">\n    <g id=\"xtick_1\">\n     <g id=\"line2d_1\">\n      <path clip-path=\"url(#pfb6595226e)\" d=\"M 98.740179 143.1 \nL 98.740179 7.2 \n\" style=\"fill:none;stroke:#b0b0b0;stroke-linecap:square;stroke-width:0.8;\"/>\n     </g>\n     <g id=\"line2d_2\">\n      <defs>\n       <path d=\"M 0 0 \nL 0 3.5 \n\" id=\"maf2775169d\" style=\"stroke:#000000;stroke-width:0.8;\"/>\n      </defs>\n      <g>\n       <use style=\"stroke:#000000;stroke-width:0.8;\" x=\"98.740179\" xlink:href=\"#maf2775169d\" y=\"143.1\"/>\n      </g>\n     </g>\n     <g id=\"text_1\">\n      <!-- 100 -->\n      <defs>\n       <path d=\"M 12.40625 8.296875 \nL 28.515625 8.296875 \nL 28.515625 63.921875 \nL 10.984375 60.40625 \nL 10.984375 69.390625 \nL 28.421875 72.90625 \nL 38.28125 72.90625 \nL 38.28125 8.296875 \nL 54.390625 8.296875 \nL 54.390625 0 \nL 12.40625 0 \nz\n\" id=\"DejaVuSans-49\"/>\n       <path d=\"M 31.78125 66.40625 \nQ 24.171875 66.40625 20.328125 58.90625 \nQ 16.5 51.421875 16.5 36.375 \nQ 16.5 21.390625 20.328125 13.890625 \nQ 24.171875 6.390625 31.78125 6.390625 \nQ 39.453125 6.390625 43.28125 13.890625 \nQ 47.125 21.390625 47.125 36.375 \nQ 47.125 51.421875 43.28125 58.90625 \nQ 39.453125 66.40625 31.78125 66.40625 \nz\nM 31.78125 74.21875 \nQ 44.046875 74.21875 50.515625 64.515625 \nQ 56.984375 54.828125 56.984375 36.375 \nQ 56.984375 17.96875 50.515625 8.265625 \nQ 44.046875 -1.421875 31.78125 -1.421875 \nQ 19.53125 -1.421875 13.0625 8.265625 \nQ 6.59375 17.96875 6.59375 36.375 \nQ 6.59375 54.828125 13.0625 64.515625 \nQ 19.53125 74.21875 31.78125 74.21875 \nz\n\" id=\"DejaVuSans-48\"/>\n      </defs>\n      <g transform=\"translate(89.196429 157.698438)scale(0.1 -0.1)\">\n       <use xlink:href=\"#DejaVuSans-49\"/>\n       <use x=\"63.623047\" xlink:href=\"#DejaVuSans-48\"/>\n       <use x=\"127.246094\" xlink:href=\"#DejaVuSans-48\"/>\n      </g>\n     </g>\n    </g>\n    <g id=\"xtick_2\">\n     <g id=\"line2d_3\">\n      <path clip-path=\"url(#pfb6595226e)\" d=\"M 138.597321 143.1 \nL 138.597321 7.2 \n\" style=\"fill:none;stroke:#b0b0b0;stroke-linecap:square;stroke-width:0.8;\"/>\n     </g>\n     <g id=\"line2d_4\">\n      <g>\n       <use style=\"stroke:#000000;stroke-width:0.8;\" x=\"138.597321\" xlink:href=\"#maf2775169d\" y=\"143.1\"/>\n      </g>\n     </g>\n     <g id=\"text_2\">\n      <!-- 200 -->\n      <defs>\n       <path d=\"M 19.1875 8.296875 \nL 53.609375 8.296875 \nL 53.609375 0 \nL 7.328125 0 \nL 7.328125 8.296875 \nQ 12.9375 14.109375 22.625 23.890625 \nQ 32.328125 33.6875 34.8125 36.53125 \nQ 39.546875 41.84375 41.421875 45.53125 \nQ 43.3125 49.21875 43.3125 52.78125 \nQ 43.3125 58.59375 39.234375 62.25 \nQ 35.15625 65.921875 28.609375 65.921875 \nQ 23.96875 65.921875 18.8125 64.3125 \nQ 13.671875 62.703125 7.8125 59.421875 \nL 7.8125 69.390625 \nQ 13.765625 71.78125 18.9375 73 \nQ 24.125 74.21875 28.421875 74.21875 \nQ 39.75 74.21875 46.484375 68.546875 \nQ 53.21875 62.890625 53.21875 53.421875 \nQ 53.21875 48.921875 51.53125 44.890625 \nQ 49.859375 40.875 45.40625 35.40625 \nQ 44.1875 33.984375 37.640625 27.21875 \nQ 31.109375 20.453125 19.1875 8.296875 \nz\n\" id=\"DejaVuSans-50\"/>\n      </defs>\n      <g transform=\"translate(129.053571 157.698438)scale(0.1 -0.1)\">\n       <use xlink:href=\"#DejaVuSans-50\"/>\n       <use x=\"63.623047\" xlink:href=\"#DejaVuSans-48\"/>\n       <use x=\"127.246094\" xlink:href=\"#DejaVuSans-48\"/>\n      </g>\n     </g>\n    </g>\n    <g id=\"xtick_3\">\n     <g id=\"line2d_5\">\n      <path clip-path=\"url(#pfb6595226e)\" d=\"M 178.454464 143.1 \nL 178.454464 7.2 \n\" style=\"fill:none;stroke:#b0b0b0;stroke-linecap:square;stroke-width:0.8;\"/>\n     </g>\n     <g id=\"line2d_6\">\n      <g>\n       <use style=\"stroke:#000000;stroke-width:0.8;\" x=\"178.454464\" xlink:href=\"#maf2775169d\" y=\"143.1\"/>\n      </g>\n     </g>\n     <g id=\"text_3\">\n      <!-- 300 -->\n      <defs>\n       <path d=\"M 40.578125 39.3125 \nQ 47.65625 37.796875 51.625 33 \nQ 55.609375 28.21875 55.609375 21.1875 \nQ 55.609375 10.40625 48.1875 4.484375 \nQ 40.765625 -1.421875 27.09375 -1.421875 \nQ 22.515625 -1.421875 17.65625 -0.515625 \nQ 12.796875 0.390625 7.625 2.203125 \nL 7.625 11.71875 \nQ 11.71875 9.328125 16.59375 8.109375 \nQ 21.484375 6.890625 26.8125 6.890625 \nQ 36.078125 6.890625 40.9375 10.546875 \nQ 45.796875 14.203125 45.796875 21.1875 \nQ 45.796875 27.640625 41.28125 31.265625 \nQ 36.765625 34.90625 28.71875 34.90625 \nL 20.21875 34.90625 \nL 20.21875 43.015625 \nL 29.109375 43.015625 \nQ 36.375 43.015625 40.234375 45.921875 \nQ 44.09375 48.828125 44.09375 54.296875 \nQ 44.09375 59.90625 40.109375 62.90625 \nQ 36.140625 65.921875 28.71875 65.921875 \nQ 24.65625 65.921875 20.015625 65.03125 \nQ 15.375 64.15625 9.8125 62.3125 \nL 9.8125 71.09375 \nQ 15.4375 72.65625 20.34375 73.4375 \nQ 25.25 74.21875 29.59375 74.21875 \nQ 40.828125 74.21875 47.359375 69.109375 \nQ 53.90625 64.015625 53.90625 55.328125 \nQ 53.90625 49.265625 50.4375 45.09375 \nQ 46.96875 40.921875 40.578125 39.3125 \nz\n\" id=\"DejaVuSans-51\"/>\n      </defs>\n      <g transform=\"translate(168.910714 157.698438)scale(0.1 -0.1)\">\n       <use xlink:href=\"#DejaVuSans-51\"/>\n       <use x=\"63.623047\" xlink:href=\"#DejaVuSans-48\"/>\n       <use x=\"127.246094\" xlink:href=\"#DejaVuSans-48\"/>\n      </g>\n     </g>\n    </g>\n    <g id=\"xtick_4\">\n     <g id=\"line2d_7\">\n      <path clip-path=\"url(#pfb6595226e)\" d=\"M 218.311607 143.1 \nL 218.311607 7.2 \n\" style=\"fill:none;stroke:#b0b0b0;stroke-linecap:square;stroke-width:0.8;\"/>\n     </g>\n     <g id=\"line2d_8\">\n      <g>\n       <use style=\"stroke:#000000;stroke-width:0.8;\" x=\"218.311607\" xlink:href=\"#maf2775169d\" y=\"143.1\"/>\n      </g>\n     </g>\n     <g id=\"text_4\">\n      <!-- 400 -->\n      <defs>\n       <path d=\"M 37.796875 64.3125 \nL 12.890625 25.390625 \nL 37.796875 25.390625 \nz\nM 35.203125 72.90625 \nL 47.609375 72.90625 \nL 47.609375 25.390625 \nL 58.015625 25.390625 \nL 58.015625 17.1875 \nL 47.609375 17.1875 \nL 47.609375 0 \nL 37.796875 0 \nL 37.796875 17.1875 \nL 4.890625 17.1875 \nL 4.890625 26.703125 \nz\n\" id=\"DejaVuSans-52\"/>\n      </defs>\n      <g transform=\"translate(208.767857 157.698438)scale(0.1 -0.1)\">\n       <use xlink:href=\"#DejaVuSans-52\"/>\n       <use x=\"63.623047\" xlink:href=\"#DejaVuSans-48\"/>\n       <use x=\"127.246094\" xlink:href=\"#DejaVuSans-48\"/>\n      </g>\n     </g>\n    </g>\n    <g id=\"xtick_5\">\n     <g id=\"line2d_9\">\n      <path clip-path=\"url(#pfb6595226e)\" d=\"M 258.16875 143.1 \nL 258.16875 7.2 \n\" style=\"fill:none;stroke:#b0b0b0;stroke-linecap:square;stroke-width:0.8;\"/>\n     </g>\n     <g id=\"line2d_10\">\n      <g>\n       <use style=\"stroke:#000000;stroke-width:0.8;\" x=\"258.16875\" xlink:href=\"#maf2775169d\" y=\"143.1\"/>\n      </g>\n     </g>\n     <g id=\"text_5\">\n      <!-- 500 -->\n      <defs>\n       <path d=\"M 10.796875 72.90625 \nL 49.515625 72.90625 \nL 49.515625 64.59375 \nL 19.828125 64.59375 \nL 19.828125 46.734375 \nQ 21.96875 47.46875 24.109375 47.828125 \nQ 26.265625 48.1875 28.421875 48.1875 \nQ 40.625 48.1875 47.75 41.5 \nQ 54.890625 34.8125 54.890625 23.390625 \nQ 54.890625 11.625 47.5625 5.09375 \nQ 40.234375 -1.421875 26.90625 -1.421875 \nQ 22.3125 -1.421875 17.546875 -0.640625 \nQ 12.796875 0.140625 7.71875 1.703125 \nL 7.71875 11.625 \nQ 12.109375 9.234375 16.796875 8.0625 \nQ 21.484375 6.890625 26.703125 6.890625 \nQ 35.15625 6.890625 40.078125 11.328125 \nQ 45.015625 15.765625 45.015625 23.390625 \nQ 45.015625 31 40.078125 35.4375 \nQ 35.15625 39.890625 26.703125 39.890625 \nQ 22.75 39.890625 18.8125 39.015625 \nQ 14.890625 38.140625 10.796875 36.28125 \nz\n\" id=\"DejaVuSans-53\"/>\n      </defs>\n      <g transform=\"translate(248.625 157.698438)scale(0.1 -0.1)\">\n       <use xlink:href=\"#DejaVuSans-53\"/>\n       <use x=\"63.623047\" xlink:href=\"#DejaVuSans-48\"/>\n       <use x=\"127.246094\" xlink:href=\"#DejaVuSans-48\"/>\n      </g>\n     </g>\n    </g>\n    <g id=\"text_6\">\n     <!-- epoch -->\n     <defs>\n      <path d=\"M 56.203125 29.59375 \nL 56.203125 25.203125 \nL 14.890625 25.203125 \nQ 15.484375 15.921875 20.484375 11.0625 \nQ 25.484375 6.203125 34.421875 6.203125 \nQ 39.59375 6.203125 44.453125 7.46875 \nQ 49.3125 8.734375 54.109375 11.28125 \nL 54.109375 2.78125 \nQ 49.265625 0.734375 44.1875 -0.34375 \nQ 39.109375 -1.421875 33.890625 -1.421875 \nQ 20.796875 -1.421875 13.15625 6.1875 \nQ 5.515625 13.8125 5.515625 26.8125 \nQ 5.515625 40.234375 12.765625 48.109375 \nQ 20.015625 56 32.328125 56 \nQ 43.359375 56 49.78125 48.890625 \nQ 56.203125 41.796875 56.203125 29.59375 \nz\nM 47.21875 32.234375 \nQ 47.125 39.59375 43.09375 43.984375 \nQ 39.0625 48.390625 32.421875 48.390625 \nQ 24.90625 48.390625 20.390625 44.140625 \nQ 15.875 39.890625 15.1875 32.171875 \nz\n\" id=\"DejaVuSans-101\"/>\n      <path d=\"M 18.109375 8.203125 \nL 18.109375 -20.796875 \nL 9.078125 -20.796875 \nL 9.078125 54.6875 \nL 18.109375 54.6875 \nL 18.109375 46.390625 \nQ 20.953125 51.265625 25.265625 53.625 \nQ 29.59375 56 35.59375 56 \nQ 45.5625 56 51.78125 48.09375 \nQ 58.015625 40.1875 58.015625 27.296875 \nQ 58.015625 14.40625 51.78125 6.484375 \nQ 45.5625 -1.421875 35.59375 -1.421875 \nQ 29.59375 -1.421875 25.265625 0.953125 \nQ 20.953125 3.328125 18.109375 8.203125 \nz\nM 48.6875 27.296875 \nQ 48.6875 37.203125 44.609375 42.84375 \nQ 40.53125 48.484375 33.40625 48.484375 \nQ 26.265625 48.484375 22.1875 42.84375 \nQ 18.109375 37.203125 18.109375 27.296875 \nQ 18.109375 17.390625 22.1875 11.75 \nQ 26.265625 6.109375 33.40625 6.109375 \nQ 40.53125 6.109375 44.609375 11.75 \nQ 48.6875 17.390625 48.6875 27.296875 \nz\n\" id=\"DejaVuSans-112\"/>\n      <path d=\"M 30.609375 48.390625 \nQ 23.390625 48.390625 19.1875 42.75 \nQ 14.984375 37.109375 14.984375 27.296875 \nQ 14.984375 17.484375 19.15625 11.84375 \nQ 23.34375 6.203125 30.609375 6.203125 \nQ 37.796875 6.203125 41.984375 11.859375 \nQ 46.1875 17.53125 46.1875 27.296875 \nQ 46.1875 37.015625 41.984375 42.703125 \nQ 37.796875 48.390625 30.609375 48.390625 \nz\nM 30.609375 56 \nQ 42.328125 56 49.015625 48.375 \nQ 55.71875 40.765625 55.71875 27.296875 \nQ 55.71875 13.875 49.015625 6.21875 \nQ 42.328125 -1.421875 30.609375 -1.421875 \nQ 18.84375 -1.421875 12.171875 6.21875 \nQ 5.515625 13.875 5.515625 27.296875 \nQ 5.515625 40.765625 12.171875 48.375 \nQ 18.84375 56 30.609375 56 \nz\n\" id=\"DejaVuSans-111\"/>\n      <path d=\"M 48.78125 52.59375 \nL 48.78125 44.1875 \nQ 44.96875 46.296875 41.140625 47.34375 \nQ 37.3125 48.390625 33.40625 48.390625 \nQ 24.65625 48.390625 19.8125 42.84375 \nQ 14.984375 37.3125 14.984375 27.296875 \nQ 14.984375 17.28125 19.8125 11.734375 \nQ 24.65625 6.203125 33.40625 6.203125 \nQ 37.3125 6.203125 41.140625 7.25 \nQ 44.96875 8.296875 48.78125 10.40625 \nL 48.78125 2.09375 \nQ 45.015625 0.34375 40.984375 -0.53125 \nQ 36.96875 -1.421875 32.421875 -1.421875 \nQ 20.0625 -1.421875 12.78125 6.34375 \nQ 5.515625 14.109375 5.515625 27.296875 \nQ 5.515625 40.671875 12.859375 48.328125 \nQ 20.21875 56 33.015625 56 \nQ 37.15625 56 41.109375 55.140625 \nQ 45.0625 54.296875 48.78125 52.59375 \nz\n\" id=\"DejaVuSans-99\"/>\n      <path d=\"M 54.890625 33.015625 \nL 54.890625 0 \nL 45.90625 0 \nL 45.90625 32.71875 \nQ 45.90625 40.484375 42.875 44.328125 \nQ 39.84375 48.1875 33.796875 48.1875 \nQ 26.515625 48.1875 22.3125 43.546875 \nQ 18.109375 38.921875 18.109375 30.90625 \nL 18.109375 0 \nL 9.078125 0 \nL 9.078125 75.984375 \nL 18.109375 75.984375 \nL 18.109375 46.1875 \nQ 21.34375 51.125 25.703125 53.5625 \nQ 30.078125 56 35.796875 56 \nQ 45.21875 56 50.046875 50.171875 \nQ 54.890625 44.34375 54.890625 33.015625 \nz\n\" id=\"DejaVuSans-104\"/>\n     </defs>\n     <g transform=\"translate(145.290625 171.376563)scale(0.1 -0.1)\">\n      <use xlink:href=\"#DejaVuSans-101\"/>\n      <use x=\"61.523438\" xlink:href=\"#DejaVuSans-112\"/>\n      <use x=\"125\" xlink:href=\"#DejaVuSans-111\"/>\n      <use x=\"186.181641\" xlink:href=\"#DejaVuSans-99\"/>\n      <use x=\"241.162109\" xlink:href=\"#DejaVuSans-104\"/>\n     </g>\n    </g>\n   </g>\n   <g id=\"matplotlib.axis_2\">\n    <g id=\"ytick_1\">\n     <g id=\"line2d_11\">\n      <path clip-path=\"url(#pfb6595226e)\" d=\"M 62.86875 104.278147 \nL 258.16875 104.278147 \n\" style=\"fill:none;stroke:#b0b0b0;stroke-linecap:square;stroke-width:0.8;\"/>\n     </g>\n     <g id=\"line2d_12\">\n      <defs>\n       <path d=\"M 0 0 \nL -3.5 0 \n\" id=\"m2a13ebe1aa\" style=\"stroke:#000000;stroke-width:0.8;\"/>\n      </defs>\n      <g>\n       <use style=\"stroke:#000000;stroke-width:0.8;\" x=\"62.86875\" xlink:href=\"#m2a13ebe1aa\" y=\"104.278147\"/>\n      </g>\n     </g>\n     <g id=\"text_7\">\n      <!-- 0.0135 -->\n      <defs>\n       <path d=\"M 10.6875 12.40625 \nL 21 12.40625 \nL 21 0 \nL 10.6875 0 \nz\n\" id=\"DejaVuSans-46\"/>\n      </defs>\n      <g transform=\"translate(20.878125 108.077366)scale(0.1 -0.1)\">\n       <use xlink:href=\"#DejaVuSans-48\"/>\n       <use x=\"63.623047\" xlink:href=\"#DejaVuSans-46\"/>\n       <use x=\"95.410156\" xlink:href=\"#DejaVuSans-48\"/>\n       <use x=\"159.033203\" xlink:href=\"#DejaVuSans-49\"/>\n       <use x=\"222.65625\" xlink:href=\"#DejaVuSans-51\"/>\n       <use x=\"286.279297\" xlink:href=\"#DejaVuSans-53\"/>\n      </g>\n     </g>\n    </g>\n    <g id=\"ytick_2\">\n     <g id=\"line2d_13\">\n      <path clip-path=\"url(#pfb6595226e)\" d=\"M 62.86875 63.006581 \nL 258.16875 63.006581 \n\" style=\"fill:none;stroke:#b0b0b0;stroke-linecap:square;stroke-width:0.8;\"/>\n     </g>\n     <g id=\"line2d_14\">\n      <g>\n       <use style=\"stroke:#000000;stroke-width:0.8;\" x=\"62.86875\" xlink:href=\"#m2a13ebe1aa\" y=\"63.006581\"/>\n      </g>\n     </g>\n     <g id=\"text_8\">\n      <!-- 0.0140 -->\n      <g transform=\"translate(20.878125 66.805799)scale(0.1 -0.1)\">\n       <use xlink:href=\"#DejaVuSans-48\"/>\n       <use x=\"63.623047\" xlink:href=\"#DejaVuSans-46\"/>\n       <use x=\"95.410156\" xlink:href=\"#DejaVuSans-48\"/>\n       <use x=\"159.033203\" xlink:href=\"#DejaVuSans-49\"/>\n       <use x=\"222.65625\" xlink:href=\"#DejaVuSans-52\"/>\n       <use x=\"286.279297\" xlink:href=\"#DejaVuSans-48\"/>\n      </g>\n     </g>\n    </g>\n    <g id=\"ytick_3\">\n     <g id=\"line2d_15\">\n      <path clip-path=\"url(#pfb6595226e)\" d=\"M 62.86875 21.735014 \nL 258.16875 21.735014 \n\" style=\"fill:none;stroke:#b0b0b0;stroke-linecap:square;stroke-width:0.8;\"/>\n     </g>\n     <g id=\"line2d_16\">\n      <g>\n       <use style=\"stroke:#000000;stroke-width:0.8;\" x=\"62.86875\" xlink:href=\"#m2a13ebe1aa\" y=\"21.735014\"/>\n      </g>\n     </g>\n     <g id=\"text_9\">\n      <!-- 0.0145 -->\n      <g transform=\"translate(20.878125 25.534233)scale(0.1 -0.1)\">\n       <use xlink:href=\"#DejaVuSans-48\"/>\n       <use x=\"63.623047\" xlink:href=\"#DejaVuSans-46\"/>\n       <use x=\"95.410156\" xlink:href=\"#DejaVuSans-48\"/>\n       <use x=\"159.033203\" xlink:href=\"#DejaVuSans-49\"/>\n       <use x=\"222.65625\" xlink:href=\"#DejaVuSans-52\"/>\n       <use x=\"286.279297\" xlink:href=\"#DejaVuSans-53\"/>\n      </g>\n     </g>\n    </g>\n    <g id=\"text_10\">\n     <!-- loss -->\n     <defs>\n      <path d=\"M 9.421875 75.984375 \nL 18.40625 75.984375 \nL 18.40625 0 \nL 9.421875 0 \nz\n\" id=\"DejaVuSans-108\"/>\n      <path d=\"M 44.28125 53.078125 \nL 44.28125 44.578125 \nQ 40.484375 46.53125 36.375 47.5 \nQ 32.28125 48.484375 27.875 48.484375 \nQ 21.1875 48.484375 17.84375 46.4375 \nQ 14.5 44.390625 14.5 40.28125 \nQ 14.5 37.15625 16.890625 35.375 \nQ 19.28125 33.59375 26.515625 31.984375 \nL 29.59375 31.296875 \nQ 39.15625 29.25 43.1875 25.515625 \nQ 47.21875 21.78125 47.21875 15.09375 \nQ 47.21875 7.46875 41.1875 3.015625 \nQ 35.15625 -1.421875 24.609375 -1.421875 \nQ 20.21875 -1.421875 15.453125 -0.5625 \nQ 10.6875 0.296875 5.421875 2 \nL 5.421875 11.28125 \nQ 10.40625 8.6875 15.234375 7.390625 \nQ 20.0625 6.109375 24.8125 6.109375 \nQ 31.15625 6.109375 34.5625 8.28125 \nQ 37.984375 10.453125 37.984375 14.40625 \nQ 37.984375 18.0625 35.515625 20.015625 \nQ 33.0625 21.96875 24.703125 23.78125 \nL 21.578125 24.515625 \nQ 13.234375 26.265625 9.515625 29.90625 \nQ 5.8125 33.546875 5.8125 39.890625 \nQ 5.8125 47.609375 11.28125 51.796875 \nQ 16.75 56 26.8125 56 \nQ 31.78125 56 36.171875 55.265625 \nQ 40.578125 54.546875 44.28125 53.078125 \nz\n\" id=\"DejaVuSans-115\"/>\n     </defs>\n     <g transform=\"translate(14.798437 84.807813)rotate(-90)scale(0.1 -0.1)\">\n      <use xlink:href=\"#DejaVuSans-108\"/>\n      <use x=\"27.783203\" xlink:href=\"#DejaVuSans-111\"/>\n      <use x=\"88.964844\" xlink:href=\"#DejaVuSans-115\"/>\n      <use x=\"141.064453\" xlink:href=\"#DejaVuSans-115\"/>\n     </g>\n    </g>\n   </g>\n   <g id=\"line2d_17\">\n    <path clip-path=\"url(#pfb6595226e)\" d=\"M 62.86875 13.377273 \nL 66.854464 65.554808 \nL 70.840179 85.875934 \nL 74.825893 98.260917 \nL 78.811607 105.339756 \nL 82.797321 109.755618 \nL 86.783036 113.734035 \nL 90.76875 118.035965 \nL 94.754464 121.700186 \nL 98.740179 123.119115 \nL 102.725893 122.24238 \nL 106.711607 124.045689 \nL 110.697321 124.944699 \nL 114.683036 126.046788 \nL 118.66875 129.294482 \nL 122.654464 130.90751 \nL 126.640179 129.690686 \nL 130.625893 130.677769 \nL 134.611607 132.21237 \nL 138.597321 130.942129 \nL 142.583036 134.213512 \nL 146.56875 132.636514 \nL 150.554464 132.231717 \nL 154.540179 132.984093 \nL 158.525893 133.295121 \nL 162.511607 131.264178 \nL 166.497321 133.231248 \nL 170.483036 133.485901 \nL 174.46875 131.759602 \nL 178.454464 132.954279 \nL 182.440179 133.678972 \nL 186.425893 133.183761 \nL 190.411607 132.151833 \nL 194.397321 133.668042 \nL 198.383036 132.085488 \nL 202.36875 135.685498 \nL 206.354464 134.169081 \nL 210.340179 132.366207 \nL 214.325893 133.725236 \nL 218.311607 134.432714 \nL 222.297321 134.817191 \nL 226.283036 135.249845 \nL 230.26875 132.695784 \nL 234.254464 132.589683 \nL 238.240179 134.315357 \nL 242.225893 133.473947 \nL 246.211607 132.215703 \nL 250.197321 136.922727 \nL 254.183036 134.289436 \nL 258.16875 132.895328 \n\" style=\"fill:none;stroke:#1f77b4;stroke-linecap:square;stroke-width:1.5;\"/>\n   </g>\n   <g id=\"patch_3\">\n    <path d=\"M 62.86875 143.1 \nL 62.86875 7.2 \n\" style=\"fill:none;stroke:#000000;stroke-linecap:square;stroke-linejoin:miter;stroke-width:0.8;\"/>\n   </g>\n   <g id=\"patch_4\">\n    <path d=\"M 258.16875 143.1 \nL 258.16875 7.2 \n\" style=\"fill:none;stroke:#000000;stroke-linecap:square;stroke-linejoin:miter;stroke-width:0.8;\"/>\n   </g>\n   <g id=\"patch_5\">\n    <path d=\"M 62.86875 143.1 \nL 258.16875 143.1 \n\" style=\"fill:none;stroke:#000000;stroke-linecap:square;stroke-linejoin:miter;stroke-width:0.8;\"/>\n   </g>\n   <g id=\"patch_6\">\n    <path d=\"M 62.86875 7.2 \nL 258.16875 7.2 \n\" style=\"fill:none;stroke:#000000;stroke-linecap:square;stroke-linejoin:miter;stroke-width:0.8;\"/>\n   </g>\n  </g>\n </g>\n <defs>\n  <clipPath id=\"pfb6595226e\">\n   <rect height=\"135.9\" width=\"195.3\" x=\"62.86875\" y=\"7.2\"/>\n  </clipPath>\n </defs>\n</svg>\n"
          },
          "metadata": {
            "tags": [],
            "needs_background": "light"
          }
        }
      ]
    },
    {
      "cell_type": "code",
      "metadata": {
        "origin_pos": 37,
        "tab": [
          "pytorch"
        ],
        "id": "YQIrj4vAg7E-"
      },
      "source": [
        "#@save\n",
        "def predict_seq2seq(net, src_sentence, device):\n",
        "    \"\"\"Predict for sequence to sequence.\"\"\"\n",
        "    # Set `net` to eval mode for inference\n",
        "    net.eval()\n",
        "    src_tokens = [source_vocab[c] for c in src_sentence.lower()] + [source_vocab['<eos>']]\n",
        "    # enc_valid_len = torch.tensor([len(src_tokens)], device=device)\n",
        "    src_tokens = truncate_pad(src_tokens, NUM_STEPS, source_vocab['<pad>'])\n",
        "    # Add the batch axis\n",
        "    enc_X = torch.unsqueeze(torch.tensor(src_tokens, dtype=torch.long, device=device), dim=0)\n",
        "    enc_outputs = net.encoder(enc_X)\n",
        "    dec_state = net.decoder.init_state(enc_outputs)\n",
        "    # Add the batch axis\n",
        "    dec_X = torch.unsqueeze(torch.tensor([target_vocab['<bos>']], dtype=torch.long, device=device), dim=0)\n",
        "    output_seq, attention_weight_seq = [], []\n",
        "    for _ in range(NUM_STEPS):\n",
        "        Y, dec_state = net.decoder(dec_X, dec_state)\n",
        "        # We use the token with the highest prediction likelihood as the input\n",
        "        # of the decoder at the next time step\n",
        "        dec_X = Y.argmax(dim=2)\n",
        "        pred = dec_X.squeeze(dim=0).type(torch.int32).item()\n",
        "        # Once the end-of-sequence token is predicted, the generation of the\n",
        "        # output sequence is complete\n",
        "        if pred == target_vocab['<eos>']:\n",
        "            break\n",
        "        output_seq.append(pred)\n",
        "    return output_seq"
      ],
      "execution_count": null,
      "outputs": []
    },
    {
      "cell_type": "code",
      "metadata": {
        "origin_pos": 39,
        "tab": [
          "pytorch"
        ],
        "id": "53e59NY1g7FA"
      },
      "source": [
        "def bleu(pred_seq, label_seq, k):  #@save\n",
        "    \"\"\"Compute the BLEU.\"\"\"\n",
        "    pred_tokens, label_tokens = pred_seq.split(' '), label_seq.split(' ')\n",
        "    len_pred, len_label = len(pred_tokens), len(label_tokens)\n",
        "    score = math.exp(min(0, 1 - len_label / len_pred))\n",
        "    for n in range(1, k + 1):\n",
        "        num_matches, label_subs = 0, collections.defaultdict(int)\n",
        "        for i in range(len_label - n + 1):\n",
        "            label_subs[''.join(label_tokens[i: i + n])] += 1\n",
        "        for i in range(len_pred - n + 1):\n",
        "            if label_subs[''.join(pred_tokens[i: i + n])] > 0:\n",
        "                num_matches += 1\n",
        "                label_subs[''.join(pred_tokens[i: i + n])] -= 1\n",
        "        score *= math.pow(num_matches / (len_pred - n + 1), math.pow(0.5, n))\n",
        "    return score"
      ],
      "execution_count": null,
      "outputs": []
    },
    {
      "cell_type": "code",
      "metadata": {
        "colab": {
          "base_uri": "https://localhost:8080/"
        },
        "id": "w0ekGmulmffM",
        "outputId": "1a9ecf8c-2aca-4234-ae01-b9e96d7f1d4d"
      },
      "source": [
        "engs = ['go .', \"i lost .\", 'he\\'s calm .', 'i\\'m home .']\r\n",
        "fras = ['va !', 'j\\'ai perdu .', 'il est calme .', 'je suis chez moi .']\r\n",
        "for eng, fra in zip(engs, fras):\r\n",
        "    translation = predict_seq2seq(net, eng, device)\r\n",
        "    translation = ''.join([target_idx2token[i] for i in translation])\r\n",
        "    print('English: %s ; French: %s ; Tranlation: %s' % (eng, fra, translation))\r\n",
        "    # print(f'{eng} => {translation}, bleu {bleu(translation, fra, k=2):.3f}')"
      ],
      "execution_count": null,
      "outputs": [
        {
          "output_type": "stream",
          "text": [
            "English: go . ; French: va ! ; Tranlation: voirte de treut plent de te plent de temps .\n",
            "English: i lost . ; French: j'ai perdu . ; Tranlation: j'ai de trarn de trarns .\n",
            "English: he's calm . ; French: il est calme . ; Tranlation: il que de ples de te plent de te fait de te plent de te plent de tempstorrre .\n",
            "English: i'm home . ; French: je suis chez moi . ; Tranlation: je s de te protrrert .\n"
          ],
          "name": "stdout"
        }
      ]
    },
    {
      "cell_type": "markdown",
      "metadata": {
        "id": "_hiELIhAoI_m"
      },
      "source": [
        "# Societal issues: NSF/hate speech classification challenges\n",
        "\n",
        "\n"
      ]
    },
    {
      "cell_type": "markdown",
      "metadata": {
        "id": "X-hYAtkAoMyo"
      },
      "source": [
        "# the final project \n",
        "\n",
        "Video (watch on your own) and link to  description"
      ]
    },
    {
      "cell_type": "markdown",
      "metadata": {
        "id": "gbgTqgB5rH_W"
      },
      "source": [
        "---\n",
        "# Wrap up\n"
      ]
    },
    {
      "cell_type": "code",
      "metadata": {
        "id": "98YXpSntrY6k"
      },
      "source": [
        "#@markdown #Run Cell to Show Airtable Form\n",
        "#@markdown ##**Confirm your answers and then click \"Submit\"**\n",
        "\n",
        "import time\n",
        "import numpy as np\n",
        "from IPython.display import IFrame\n",
        "\n",
        "def prefill_form(src, fields: dict):\n",
        "  '''\n",
        "  src: the original src url to embed the form\n",
        "  fields: a dictionary of field:value pairs,\n",
        "  e.g. {\"pennkey\": my_pennkey, \"location\": my_location}\n",
        "  '''\n",
        "  prefills = \"&\".join([\"prefill_%s=%s\"%(key, fields[key]) for key in fields])\n",
        "  src = src + prefills\n",
        "  src = \"+\".join(src.split(\" \"))\n",
        "  return src\n",
        "\n",
        "\n",
        "#autofill time if it is not present\n",
        "try: t0;\n",
        "except NameError: t0 = time.time()\n",
        "try: t1;\n",
        "except NameError: t1 = time.time()\n",
        "try: t2;\n",
        "except NameError: t2 = time.time()\n",
        "try: t3;\n",
        "except NameError: t3 = time.time()\n",
        "try: t4;\n",
        "except NameError: t4 = time.time()\n",
        "try: t5;\n",
        "except NameError: t5 = time.time()\n",
        "try: t6;\n",
        "except NameError: t6 = time.time()\n",
        "\n",
        "#autofill fields if they are not present\n",
        "#a missing pennkey and pod will result in an Airtable warning\n",
        "#which is easily fixed user-side.\n",
        "try: my_pennkey;\n",
        "except NameError: my_pennkey = \"\"\n",
        "\n",
        "try: my_pod;\n",
        "except NameError: my_pod = \"\"\n",
        "\n",
        "try: learning_from_previous_week;\n",
        "except NameError: learning_from_previous_week = \"\" \n"
      ],
      "execution_count": null,
      "outputs": []
    }
  ]
}