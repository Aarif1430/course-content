{
  "nbformat": 4,
  "nbformat_minor": 0,
  "metadata": {
    "accelerator": "TPU",
    "colab": {
      "name": "W3_Tutorial2.ipynb",
      "provenance": [],
      "collapsed_sections": [],
      "toc_visible": true,
      "machine_shape": "hm",
      "include_colab_link": true
    },
    "kernelspec": {
      "display_name": "Python 3",
      "name": "python3"
    }
  },
  "cells": [
    {
      "cell_type": "markdown",
      "metadata": {
        "id": "view-in-github",
        "colab_type": "text"
      },
      "source": [
        "<a href=\"https://colab.research.google.com/github/CIS-522/course-content/blob/main/tutorials/W3_MLPs/W3_Tutorial2.ipynb\" target=\"_parent\"><img src=\"https://colab.research.google.com/assets/colab-badge.svg\" alt=\"Open In Colab\"/></a>"
      ]
    },
    {
      "cell_type": "markdown",
      "metadata": {
        "id": "X2kPrtVyXtaP"
      },
      "source": [
        "# CIS-522 Week 3 Part 2\r\n",
        "# Multi-Layer Perceptrons (MLPs)\r\n",
        "\r\n",
        "__Instructor__: Konrad Kording\r\n",
        "\r\n",
        "__Content creators:__ Arash Ash"
      ]
    },
    {
      "cell_type": "markdown",
      "metadata": {
        "id": "p2DuJddRXxYY"
      },
      "source": [
        "---\r\n",
        "# Tutorial Objectives\r\n",
        "In this tutorial, we delve deeper by using one of the most famous deep learning models of all!\r\n",
        "\r\n",
        "MLPs are arguably one of the most tractable models that we can use to study deep learning fundamentals. Here we will learn why MLPs are: \r\n",
        "\r\n",
        "* similar to biological networks\r\n",
        "* good at function approximation\r\n",
        "* can evolve linearly in weights \r\n",
        "* the case of deep vs. wide\r\n",
        "* dependant on transfer functions\r\n",
        "* sensitive to initialization"
      ]
    },
    {
      "cell_type": "code",
      "metadata": {
        "cellView": "form",
        "id": "e6GnDC12UtUD"
      },
      "source": [
        "#@markdown What is your Pennkey and pod? (text, not numbers, e.g. bfranklin)\n",
        "my_pennkey = 'value' #@param {type:\"string\"}\n",
        "my_pod = 'Select' #@param ['Select', 'euclidean-wombat', 'sublime-newt', 'buoyant-unicorn', 'lackadaisical-manatee','indelible-stingray','superfluous-lyrebird','discreet-reindeer','quizzical-goldfish','astute-jellyfish','ubiquitous-cheetah','nonchalant-crocodile','fashionable-lemur','spiffy-eagle','electric-emu','quotidian-lion']\n"
      ],
      "execution_count": null,
      "outputs": []
    },
    {
      "cell_type": "code",
      "metadata": {
        "cellView": "form",
        "id": "NtskSZXZqu3W"
      },
      "source": [
        "# @title Slides\r\n",
        "from IPython.display import HTML\r\n",
        "HTML('<iframe src=\"https://docs.google.com/presentation/d/e/2PACX-1vSPvHqDTmMq4GyQy6lieNEFxq4qz1SmqC2RNoeei3_niECH53zneh8jJVYOnBIdk0Uaz7y2b9DK8V1t/embed?start=false&loop=false&delayms=3000\" frameborder=\"0\" width=\"480\" height=\"299\" allowfullscreen=\"true\" mozallowfullscreen=\"true\" webkitallowfullscreen=\"true\"></iframe>')"
      ],
      "execution_count": null,
      "outputs": []
    },
    {
      "cell_type": "markdown",
      "metadata": {
        "id": "E29pz3hNeQTO"
      },
      "source": [
        "\r\n",
        "Meet with your pod for 10 minutes to discuss what you learned, what was clear, and what you hope to learn more about."
      ]
    },
    {
      "cell_type": "code",
      "metadata": {
        "cellView": "form",
        "id": "c8nOPFKTuJhA"
      },
      "source": [
        "#@markdown Tell us your thoughts about what you have learned.\n",
        "my_w2_upshot = '' #@param {type:\"string\"}"
      ],
      "execution_count": null,
      "outputs": []
    },
    {
      "cell_type": "markdown",
      "metadata": {
        "id": "vgOQxVS1X2dB"
      },
      "source": [
        "---\r\n",
        "# Setup"
      ]
    },
    {
      "cell_type": "code",
      "metadata": {
        "id": "xXd8Now_XwR7",
        "cellView": "form"
      },
      "source": [
        "# @title Imports\r\n",
        "import random\r\n",
        "import pathlib\r\n",
        "\r\n",
        "import torch\r\n",
        "import numpy as np\r\n",
        "import matplotlib.pyplot as plt\r\n",
        "\r\n",
        "import torch.nn as nn\r\n",
        "import torch.optim as optim\r\n",
        "import torch.nn.functional as F\r\n",
        "import torchvision.transforms as transforms\r\n",
        "from torchvision.datasets import ImageFolder\r\n",
        "from torch.utils.data import DataLoader, TensorDataset\r\n",
        "from torchvision.utils import make_grid\r\n",
        "from IPython.display import HTML, display\r\n",
        "\r\n",
        "dev = torch.device(\"cuda\" if torch.cuda.is_available() else \"cpu\")\r\n",
        "dev, torch.get_num_threads()"
      ],
      "execution_count": null,
      "outputs": []
    },
    {
      "cell_type": "code",
      "metadata": {
        "id": "ZUyEQpxTSzxe",
        "cellView": "form"
      },
      "source": [
        "# @title Seeding for reproducibility\r\n",
        "seed = 522\r\n",
        "random.seed(seed)\r\n",
        "np.random.seed(seed)\r\n",
        "torch.manual_seed(seed)\r\n",
        "torch.cuda.manual_seed(seed)\r\n",
        "\r\n",
        "torch.backends.cudnn.deterministic = True\r\n",
        "torch.backends.cudnn.benchmark = False\r\n",
        "torch.set_deterministic(True)\r\n",
        "def seed_worker(worker_id):\r\n",
        "    worker_seed = seed % (worker_id+1)\r\n",
        "    np.random.seed(worker_seed)\r\n",
        "    random.seed(worker_seed)"
      ],
      "execution_count": null,
      "outputs": []
    },
    {
      "cell_type": "code",
      "metadata": {
        "cellView": "form",
        "id": "hj8C2Cf0G0i_"
      },
      "source": [
        "# @title Dataset download\r\n",
        "%%capture\r\n",
        "!rm -r AnimalFaces32x32/\r\n",
        "!git clone https://github.com/arashash/AnimalFaces32x32\r\n",
        "!rm -r afhq/\r\n",
        "!unzip ./AnimalFaces32x32/afhq_32x32.zip "
      ],
      "execution_count": null,
      "outputs": []
    },
    {
      "cell_type": "code",
      "metadata": {
        "id": "oRrTcZOlXA8C",
        "cellView": "form"
      },
      "source": [
        "# @title Figure Settings\r\n",
        "import ipywidgets as widgets\r\n",
        "%matplotlib inline \r\n",
        "fig_w, fig_h = (8, 6)\r\n",
        "plt.rcParams.update({'figure.figsize': (fig_w, fig_h)})\r\n",
        "%config InlineBackend.figure_format = 'retina'\r\n",
        "my_layout = widgets.Layout()"
      ],
      "execution_count": null,
      "outputs": []
    },
    {
      "cell_type": "code",
      "metadata": {
        "id": "40Qc7MFcX7Oc",
        "cellView": "form"
      },
      "source": [
        "# @title Helper functions\r\n",
        "def imshow(img):\r\n",
        "    img = img / 2 + 0.5     # unnormalize\r\n",
        "    npimg = img.numpy()\r\n",
        "    plt.imshow(np.transpose(npimg, (1, 2, 0)))\r\n",
        "    plt.axis(False)\r\n",
        "    plt.show()\r\n",
        "\r\n",
        "def progress(epoch, loss, epochs=100):\r\n",
        "    return HTML(\"\"\"\r\n",
        "        <label for=\"file\">Training loss: {loss}</label>\r\n",
        "        <progress\r\n",
        "            value='{epoch}'\r\n",
        "            max='{epochs}',\r\n",
        "            style='width: 100%'\r\n",
        "        >\r\n",
        "            {epoch}\r\n",
        "        </progress>\r\n",
        "    \"\"\".format(loss=loss, epoch=epoch, epochs=epochs))"
      ],
      "execution_count": null,
      "outputs": []
    },
    {
      "cell_type": "code",
      "metadata": {
        "cellView": "form",
        "id": "D1H4GG-0jWfy"
      },
      "source": [
        "# @title Part 1 Code\r\n",
        "class Net(nn.Module):\r\n",
        "    def __init__(self, actv, num_inputs, hidden_units, num_outputs):\r\n",
        "        super(Net, self).__init__()\r\n",
        "\r\n",
        "        exec('self.actv = nn.%s'%actv)\r\n",
        "\r\n",
        "        self.layers = nn.ModuleList()\r\n",
        "        for i in range(len(hidden_units)):\r\n",
        "          next_num_inputs = hidden_units[i] \r\n",
        "          self.layers += [nn.Linear(num_inputs, next_num_inputs)]\r\n",
        "          num_inputs = next_num_inputs\r\n",
        "\r\n",
        "        self.out = nn.Linear(num_inputs, num_outputs)\r\n",
        "\r\n",
        "    def forward(self, x):\r\n",
        "        # flattening\r\n",
        "        x = x.view(x.shape[0], -1)\r\n",
        "\r\n",
        "        for layer in self.layers:\r\n",
        "          x = self.actv(layer(x))\r\n",
        "        x = self.out(x)\r\n",
        "        return x\r\n",
        "\r\n",
        "K = 4\r\n",
        "sigma = 0.4\r\n",
        "N = 1000\r\n",
        "t = torch.linspace(0, 1, N)\r\n",
        "X = torch.zeros(K*N, 2)\r\n",
        "y = torch.zeros(K*N)\r\n",
        "for k in range(K):\r\n",
        "  X[k*N:(k+1)*N, 0] = t*(torch.sin(2*np.pi/K*(2*t+k)) + sigma**2*torch.randn(N))   # [TO-DO]\r\n",
        "  X[k*N:(k+1)*N, 1] = t*(torch.cos(2*np.pi/K*(2*t+k)) + sigma**2*torch.randn(N))   # [TO-DO]\r\n",
        "  y[k*N:(k+1)*N] = k\r\n",
        "\r\n",
        "# Shuffling\r\n",
        "shuffled_indeces = torch.randperm(K*N)\r\n",
        "X = X[shuffled_indeces]\r\n",
        "y = y[shuffled_indeces]\r\n",
        "\r\n",
        "# Test Train splitting\r\n",
        "test_size = int(0.2*N)\r\n",
        "X_test = X[:test_size]\r\n",
        "y_test = y[:test_size]\r\n",
        "X_train = X[test_size:]\r\n",
        "y_train = y[test_size:]\r\n",
        "\r\n",
        "\r\n",
        "batch_size = 128\r\n",
        "test_data = TensorDataset(X_test, y_test)\r\n",
        "test_loader = DataLoader(test_data, batch_size=batch_size,\r\n",
        "                         shuffle=False, num_workers=0)\r\n",
        "\r\n",
        "train_data = TensorDataset(X_train, y_train)\r\n",
        "train_loader = DataLoader(train_data, batch_size=batch_size, drop_last=True,\r\n",
        "                        shuffle=True, num_workers=0, worker_init_fn=seed_worker)\r\n",
        "\r\n",
        "def train_test_classification(net, criterion, optimizer,\r\n",
        "                              train_loader, test_loader,\r\n",
        "                              num_epochs=1, verbose=True, \r\n",
        "                              training_plot=False):\r\n",
        "  if verbose:\r\n",
        "    progress_bar = display(progress(0, 0, num_epochs), display_id=True)\r\n",
        "\r\n",
        "  net.train()\r\n",
        "  training_losses = []\r\n",
        "  for epoch in range(num_epochs):  # loop over the dataset multiple times\r\n",
        "      running_loss = 0.0\r\n",
        "      for i, data in enumerate(train_loader, 0):\r\n",
        "          # get the inputs; data is a list of [inputs, labels]\r\n",
        "          inputs, labels = data\r\n",
        "          inputs = inputs.to(dev).float()\r\n",
        "          labels = labels.to(dev).long()\r\n",
        "\r\n",
        "          # zero the parameter gradients\r\n",
        "          optimizer.zero_grad()\r\n",
        "\r\n",
        "          # forward + backward + optimize\r\n",
        "          outputs = net(inputs)\r\n",
        "\r\n",
        "          loss = criterion(outputs, labels)\r\n",
        "          loss.backward()\r\n",
        "          optimizer.step()\r\n",
        "\r\n",
        "          # print statistics\r\n",
        "          if verbose:\r\n",
        "            training_losses += [loss.item()]\r\n",
        "            running_loss += loss.item()\r\n",
        "            if i % 10 == 9:    # update every 10 mini-batches\r\n",
        "                progress_bar.update(progress(epoch+1, running_loss / 10, num_epochs))\r\n",
        "                running_loss = 0.0\r\n",
        "\r\n",
        "  net.eval()\r\n",
        "  def test(data_loader):\r\n",
        "    correct = 0\r\n",
        "    total = 0\r\n",
        "    for data in data_loader:\r\n",
        "        inputs, labels = data\r\n",
        "        inputs = inputs.to(dev).float()\r\n",
        "        labels = labels.to(dev).long()\r\n",
        "\r\n",
        "        outputs = net(inputs)\r\n",
        "        _, predicted = torch.max(outputs, 1)\r\n",
        "        total += labels.size(0)\r\n",
        "        correct += (predicted == labels).sum().item()\r\n",
        "\r\n",
        "    acc = 100 * correct / total\r\n",
        "    return total, acc\r\n",
        "\r\n",
        "  train_total, train_acc = test(train_loader)\r\n",
        "  test_total, test_acc = test(test_loader)\r\n",
        "\r\n",
        "  if verbose:\r\n",
        "    print('Accuracy on the %d training samples: %0.2f %%' % (train_total, train_acc))\r\n",
        "    print('Accuracy on the %d testing samples: %0.2f %%' % (test_total, test_acc))\r\n",
        "\r\n",
        "  if training_plot:\r\n",
        "    plt.plot(training_losses)\r\n",
        "    plt.xlabel('Batch')\r\n",
        "    plt.ylabel('Training loss')\r\n",
        "    plt.show()\r\n",
        "  \r\n",
        "  return train_acc, test_acc\r\n",
        "\r\n",
        "def sample_grid(M=500, x_max = 2.0):\r\n",
        "  ii, jj = torch.meshgrid(torch.linspace(-x_max, x_max,M),\r\n",
        "                          torch.linspace(-x_max, x_max, M))\r\n",
        "  X_all = torch.cat([ii.unsqueeze(-1),\r\n",
        "                     jj.unsqueeze(-1)],\r\n",
        "                     dim=-1).view(-1, 2)\r\n",
        "  return X_all\r\n",
        "\r\n",
        "def plot_decision_map(X_all, y_pred, X_test, y_test, M=500, x_max = 2.0, eps = 1e-3):\r\n",
        "  decision_map = torch.argmax(y_pred, dim=1)    # [TO-DO]\r\n",
        "\r\n",
        "  for i in range(len(X_test)):\r\n",
        "    indeces = (X_all[:, 0] - X_test[i, 0])**2 + (X_all[:, 1] - X_test[i, 1])**2 < eps    # [TO-DO]\r\n",
        "    decision_map[indeces] = (K + y_test[i]).long()    # [TO-DO]\r\n",
        "\r\n",
        "  decision_map = decision_map.view(M, M).cpu()\r\n",
        "  plt.imshow(decision_map, extent=[-x_max, x_max, -x_max, x_max], cmap='jet')\r\n",
        "  plt.plot()"
      ],
      "execution_count": null,
      "outputs": []
    },
    {
      "cell_type": "code",
      "metadata": {
        "cellView": "form",
        "id": "CwszyupvkL3-"
      },
      "source": [
        "#@title Video 10:"
      ],
      "execution_count": null,
      "outputs": []
    },
    {
      "cell_type": "markdown",
      "metadata": {
        "id": "yRsWs55XfyAS"
      },
      "source": [
        "## Exercise 9: Implement gradient visualization"
      ]
    },
    {
      "cell_type": "code",
      "metadata": {
        "id": "_VZUEq01vJJH"
      },
      "source": [
        "def plot_polytopes(grad, M=500, x_max=1):\r\n",
        "  grad = grad.detach().cpu()\r\n",
        "  grad_colors = grad[:, 0]     # [TO-DO]\r\n",
        "  grad_colors = (grad_colors / grad_colors.max() * 1e3).int() % 10     # [TO-DO]\r\n",
        "  grad_colors = grad_colors.view(M, M).cpu().numpy()\r\n",
        "  plt.imshow(grad_colors, cmap='rainbow')\r\n",
        "  plt.show()\r\n",
        "\r\n",
        "rand_net = Net('ReLU()', X_train.shape[1], [128], K).to(dev)\r\n",
        "\r\n",
        "criterion = nn.CrossEntropyLoss()\r\n",
        "X_all = sample_grid(x_max=1)\r\n",
        "labels = torch.zeros(len(X_all)).long()\r\n",
        "X_all.requires_grad = True    # [TO-DO]\r\n",
        "outputs = rand_net(X_all)\r\n",
        "\r\n",
        "loss = torch.mean(outputs)    # [TO-DO]\r\n",
        "# loss = torch.mean(outputs**2) # try this to see how it become non-linear\r\n",
        "loss.backward()\r\n",
        "\r\n",
        "plot_polytopes(X_all.grad)    # [TO-DO]"
      ],
      "execution_count": null,
      "outputs": []
    },
    {
      "cell_type": "markdown",
      "metadata": {
        "id": "QZS17RNAkbmt"
      },
      "source": [
        "## Implement gradient visualization that flows! (optional)"
      ]
    },
    {
      "cell_type": "code",
      "metadata": {
        "id": "t8R71qCfkWhM"
      },
      "source": [
        "def plot_grad(X_all, grad, y_test, M=500):\r\n",
        "  grad = grad.detach().cpu()\r\n",
        "  X_all = X_all.detach().cpu()\r\n",
        "\r\n",
        "  plt.quiver(X_all[:, 0], X_all[:, 1],\r\n",
        "             grad[:, 0], grad[:, 1], y_test)    # [TO-DO]\r\n",
        "  plt.show()\r\n",
        "\r\n",
        "rand_net = Net('ReLU()', X_train.shape[1], [128], K).to(dev)\r\n",
        "X_test.requires_grad = True    # [TO-DO]\r\n",
        "outputs = rand_net(X_test)\r\n",
        "\r\n",
        "loss = criterion(outputs, y_test.long())    # [TO-DO]\r\n",
        "loss.backward()\r\n",
        "\r\n",
        "plot_grad(X_test, X_test.grad, y_test)    # [TO-DO]\r\n",
        "X_test.requires_grad = False    # [TO-DO]"
      ],
      "execution_count": null,
      "outputs": []
    },
    {
      "cell_type": "markdown",
      "metadata": {
        "id": "lkuxYZ_-lJIr"
      },
      "source": [
        "# MLPs vs Linear model with Polynomial features"
      ]
    },
    {
      "cell_type": "code",
      "metadata": {
        "cellView": "form",
        "id": "bn7efLdVmz8Z"
      },
      "source": [
        "#@title Video 11:"
      ],
      "execution_count": null,
      "outputs": []
    },
    {
      "cell_type": "markdown",
      "metadata": {
        "id": "7VJgKVfGlaW_"
      },
      "source": [
        "## Exercise 10: Add polynomial features and train without any hidden layers\r\n",
        "[Outline the goal and steps and the formulas, especially how the num_features is calculated]"
      ]
    },
    {
      "cell_type": "code",
      "metadata": {
        "id": "Zvqug5B6lmf5"
      },
      "source": [
        "poly_degree = 50\r\n",
        "def make_poly_features(poly_degree, X):\r\n",
        "  num_features = (poly_degree+1)*(poly_degree+2)//2-1   # [TO-DO]\r\n",
        "  poly_X = torch.zeros((X.shape[0], num_features))\r\n",
        "  count = 0\r\n",
        "  for i in range(poly_degree+1):\r\n",
        "    for j in range(poly_degree+1):\r\n",
        "      if j+i > 0: # no need to add zero degree since model has biases\r\n",
        "        if j+i <= poly_degree:\r\n",
        "          poly_X[:, count] = X[:, 0]**i * X[:, 1]**j   # [TO-DO]\r\n",
        "          count += 1\r\n",
        "  return poly_X\r\n",
        "\r\n",
        "poly_X_test = make_poly_features(poly_degree, X_test)\r\n",
        "poly_X_train = make_poly_features(poly_degree, X_train)\r\n",
        "\r\n",
        "batch_size = 128\r\n",
        "poly_test_data = TensorDataset(poly_X_test, y_test)\r\n",
        "poly_test_loader = DataLoader(poly_test_data, batch_size=batch_size,\r\n",
        "                        shuffle=False, num_workers=1)\r\n",
        "poly_train_data = TensorDataset(poly_X_train, y_train)\r\n",
        "poly_train_loader = DataLoader(poly_train_data, batch_size=batch_size,\r\n",
        "                        shuffle=True, num_workers=1)"
      ],
      "execution_count": null,
      "outputs": []
    },
    {
      "cell_type": "code",
      "metadata": {
        "id": "H8Kkn3qtlqaF"
      },
      "source": [
        "poly_net = Net('ReLU()', poly_X_train.shape[1], [], K).to(dev)    # [TO-DO] \r\n",
        "criterion = nn.CrossEntropyLoss()\r\n",
        "optimizer = optim.Adam(poly_net.parameters(), lr=1e-3)\r\n",
        "num_epochs = 100\r\n",
        "_, _ = train_test_classification(poly_net, criterion, optimizer, \r\n",
        "                                 poly_train_loader, poly_test_loader,\r\n",
        "                                 num_epochs=num_epochs)"
      ],
      "execution_count": null,
      "outputs": []
    },
    {
      "cell_type": "code",
      "metadata": {
        "id": "kUU6oy6emAd3"
      },
      "source": [
        "X_all = sample_grid()\r\n",
        "poly_X_all = make_poly_features(poly_degree, X_all)\r\n",
        "y_pred = poly_net(poly_X_all)\r\n",
        "plot_decision_map(X_all, y_pred, X_test, y_test)"
      ],
      "execution_count": null,
      "outputs": []
    },
    {
      "cell_type": "markdown",
      "metadata": {
        "id": "CJYcwHzugx6N"
      },
      "source": [
        "# Wider vs deeper networks"
      ]
    },
    {
      "cell_type": "code",
      "metadata": {
        "cellView": "form",
        "id": "5cXchBdhg_r7"
      },
      "source": [
        "#@title Video 12:"
      ],
      "execution_count": null,
      "outputs": []
    },
    {
      "cell_type": "markdown",
      "metadata": {
        "id": "FG1bGJhXaIpQ"
      },
      "source": [
        "## Exercise 11: Wider vs. Deeper while keeping number of parameters same\r\n",
        "Let's find the optimal number of hidden layers under the constrained fixed number of parameters!\r\n",
        "\r\n",
        "But first, let's implement a model parameter counter"
      ]
    },
    {
      "cell_type": "code",
      "metadata": {
        "id": "u4p1WQ9MREW6"
      },
      "source": [
        "def count_parameters(model):\r\n",
        "  # facny implementation\r\n",
        "  return sum(p.numel() for p in model.parameters() if p.requires_grad)\r\n",
        "\r\n",
        "def count_parameters(model):\r\n",
        "  # more didactic implementation\r\n",
        "  par_count = 0\r\n",
        "  for p in model.parameters():\r\n",
        "    if p.requires_grad:\r\n",
        "      par_count += p.numel()     # [TO-DO]\r\n",
        "  return par_count"
      ],
      "execution_count": null,
      "outputs": []
    },
    {
      "cell_type": "code",
      "metadata": {
        "id": "9QhvHQHWYgdY"
      },
      "source": [
        "max_par_count = 100\r\n",
        "max_hidden_layer = 5\r\n",
        "hidden_layers = range(1, max_hidden_layer+1)    # [TO-DO]\r\n",
        "test_scores = []\r\n",
        "for hidden_layer in hidden_layers:\r\n",
        "  hidden_units = np.ones(hidden_layer, dtype=np.int)    # [TO-DO]\r\n",
        "  wide_net = Net('ReLU()', X_train.shape[1], hidden_units, K).to(dev)\r\n",
        "  par_count = count_parameters(wide_net)\r\n",
        "  while par_count < max_par_count:\r\n",
        "    hidden_units += 1\r\n",
        "    wide_net = Net('ReLU()', X_train.shape[1], hidden_units, K).to(dev)\r\n",
        "    par_count = count_parameters(wide_net)\r\n",
        "\r\n",
        "  criterion = nn.CrossEntropyLoss()\r\n",
        "  optimizer = optim.Adam(wide_net.parameters(), lr=1e-3)\r\n",
        "  num_epochs = 100\r\n",
        "  _, test_acc = train_test_classification(wide_net, criterion, optimizer, train_loader,\r\n",
        "                                          test_loader, num_epochs=num_epochs)    # [TO-DO]\r\n",
        "  test_scores += [test_acc]\r\n",
        "\r\n",
        "plt.xlabel('# of hidden layers')\r\n",
        "plt.ylabel('Test accuracy')\r\n",
        "plt.plot(hidden_layers, test_scores)\r\n",
        "plt.show()"
      ],
      "execution_count": null,
      "outputs": []
    },
    {
      "cell_type": "markdown",
      "metadata": {
        "id": "vfY1h-lFndjt"
      },
      "source": [
        "# Neural Tangent Kernels (NTKs)"
      ]
    },
    {
      "cell_type": "code",
      "metadata": {
        "cellView": "form",
        "id": "MNj8KuO7nqIP"
      },
      "source": [
        "#@title Video 13:"
      ],
      "execution_count": null,
      "outputs": []
    },
    {
      "cell_type": "markdown",
      "metadata": {
        "id": "oPKms1XJWboJ"
      },
      "source": [
        "## Exercise 12: Motivation for NTKs\r\n",
        "lazy training of overcomplete MLPs results in linear changes in weights. Let's try to see it here,"
      ]
    },
    {
      "cell_type": "code",
      "metadata": {
        "id": "UW1wgB3yWaSM"
      },
      "source": [
        "net = Net('ReLU()', X_train.shape[1], [1000], K).to(dev)    # [TO-DO] \r\n",
        "criterion = nn.CrossEntropyLoss()    # [TO-DO]\r\n",
        "optimizer = optim.SGD(net.parameters(), lr=1e-2)    # [TO-DO]\r\n",
        "num_select_weights = 10\r\n",
        "num_time_steps = 5\r\n",
        "step_epoch = 40\r\n",
        "weights = torch.zeros(num_time_steps, num_select_weights)\r\n",
        "for i in range(num_time_steps):\r\n",
        "  _, _ = train_test_classification(net, criterion, optimizer, train_loader,\r\n",
        "                                  test_loader, num_epochs=step_epoch, verbose=False)\r\n",
        "  weights[i] = net.layers[0].weight[:num_select_weights, 0]    # [TO-DO]\r\n",
        "\r\n",
        "for k in range(num_select_weights):\r\n",
        "  weight = weights[:, k].detach()    # [TO-DO]\r\n",
        "  epochs = range(1, 1+num_time_steps*step_epoch, step_epoch)\r\n",
        "  plt.plot(epochs, weight, label='weight #%d'%k)\r\n",
        "\r\n",
        "plt.xlabel('epochs')\r\n",
        "plt.legend()\r\n",
        "plt.show()\r\n",
        "_, _ = train_test_classification(net, criterion, optimizer, train_loader, test_loader, num_epochs=1)"
      ],
      "execution_count": null,
      "outputs": []
    },
    {
      "cell_type": "markdown",
      "metadata": {
        "id": "J8lbbH6upXg6"
      },
      "source": [
        "# Deeper MLPs\r\n",
        "[The ability of deeper MLP to approximate a broader set of functions]"
      ]
    },
    {
      "cell_type": "code",
      "metadata": {
        "cellView": "form",
        "id": "JIwa78eMpxwL"
      },
      "source": [
        "#@title Video 14:"
      ],
      "execution_count": null,
      "outputs": []
    },
    {
      "cell_type": "markdown",
      "metadata": {
        "id": "mk_MnhzRDw2t"
      },
      "source": [
        "## Exercise 13: Classification on a real world dataset\r\n",
        "[Outline the goal and steps, introducing the need for augmentation, preprocessing (bring to -1,1 range), small batch_size (due to overfitting), multithreading in data loaders]\r\n",
        "[Ask to choose a good choice for augmentation and preprocessing]"
      ]
    },
    {
      "cell_type": "code",
      "metadata": {
        "id": "08PjFQyl5yy8"
      },
      "source": [
        "# Data Loaders\r\n",
        "batch_size = 128\r\n",
        "train_transform = transforms.Compose([\r\n",
        "     transforms.RandomRotation(10), # [TO-DO]\r\n",
        "     transforms.RandomHorizontalFlip(),    # [TO-DO]\r\n",
        "     transforms.ToTensor(),\r\n",
        "     transforms.Normalize((0.5, 0.5, 0.5), (0.5, 0.5, 0.5))    # [TO-DO] example of a simple one\r\n",
        "     ])\r\n",
        "\r\n",
        "data_path = pathlib.Path('.')/'afhq' # using pathlib to be compatible with all OS's\r\n",
        "img_train_dataset = ImageFolder(data_path/'train', transform=train_transform)\r\n",
        "# num_workers can be set to 10 if running on Colab Pro TPUs\r\n",
        "img_train_loader = DataLoader(img_train_dataset, batch_size=batch_size,\r\n",
        "                              shuffle=True, num_workers=10, worker_init_fn=seed_worker)\r\n",
        "\r\n",
        "test_transform = transforms.Compose([\r\n",
        "     transforms.ToTensor(),\r\n",
        "     transforms.Normalize((0.5, 0.5, 0.5), (0.5, 0.5, 0.5))    # [TO-DO]\r\n",
        "     ])\r\n",
        "img_test_dataset = ImageFolder(data_path/'val', transform=test_transform)\r\n",
        "img_test_loader = DataLoader(img_test_dataset, batch_size=batch_size,\r\n",
        "                        shuffle=False, num_workers=1)\r\n",
        "classes = ('cat', 'dog', 'wild')"
      ],
      "execution_count": null,
      "outputs": []
    },
    {
      "cell_type": "code",
      "metadata": {
        "id": "9JCJbOfsExdJ"
      },
      "source": [
        "# get some random training images\r\n",
        "dataiter = iter(img_train_loader)\r\n",
        "images, labels = dataiter.next()\r\n",
        "\r\n",
        "# show images\r\n",
        "imshow(make_grid(images, nrow=16))"
      ],
      "execution_count": null,
      "outputs": []
    },
    {
      "cell_type": "code",
      "metadata": {
        "id": "keBtoq559ceG"
      },
      "source": [
        "net = Net('ReLU()', 3*32*32, [128, 32], 3).to(dev) \r\n",
        "criterion = nn.MultiMarginLoss(margin=1.0)    # [TO-DO]\r\n",
        "optimizer = optim.Adam(net.parameters(), lr=3e-4)\r\n",
        "_, _ = train_test_classification(net, criterion, optimizer,\r\n",
        "                                img_train_loader, img_test_loader,\r\n",
        "                                num_epochs=50)"
      ],
      "execution_count": null,
      "outputs": []
    },
    {
      "cell_type": "code",
      "metadata": {
        "id": "PeM-_Xr8-d9F"
      },
      "source": [
        "fc1_weights = net.layers[0].weight.view(128, 3, 32, 32).detach().cpu()     # [TO-DO]\r\n",
        "fc1_weights /= torch.max(torch.abs(fc1_weights))\r\n",
        "imshow(make_grid(fc1_weights, nrow=16))"
      ],
      "execution_count": null,
      "outputs": []
    },
    {
      "cell_type": "markdown",
      "metadata": {
        "id": "_aQSP-_Yy4Hm"
      },
      "source": [
        "# The choice of transfer function matters\r\n",
        "[introduce different properties of different transfer functions]"
      ]
    },
    {
      "cell_type": "code",
      "metadata": {
        "id": "zFG-Oz1P3FoS",
        "cellView": "form"
      },
      "source": [
        "#@title Video 15:"
      ],
      "execution_count": null,
      "outputs": []
    },
    {
      "cell_type": "markdown",
      "metadata": {
        "id": "Fc6M5Ubf4mIo"
      },
      "source": [
        "## Exercise 14: Find the best transfer function for this model\r\n",
        "[categorizing Pytorch transfer functions according to their properties in a table so that students could have a better educated guess on which one to pick instead of trying all!]"
      ]
    },
    {
      "cell_type": "code",
      "metadata": {
        "id": "DYmgQtA534dn"
      },
      "source": [
        "# Possible Activations\r\n",
        "Activations = ['ReLU', 'Tanh', 'Sigmoid', 'ELU', 'Hardshrink', 'Hardsigmoid',\r\n",
        "'Hardtanh', 'Hardswish', 'LeakyReLU', 'LogSigmoid', 'PReLU',\r\n",
        "'ReLU6', 'RReLU', 'SELU', 'CELU', 'GELU', 'SiLU', 'Softplus',\r\n",
        "'Softshrink', 'Softsign', 'Tanhshrink']\r\n",
        "\r\n",
        "your_picks = ['Hardswish'] # [TO-DO] other picks above 91.5% test accuracy is acceptable\r\n",
        "\r\n",
        "for actv in your_picks:\r\n",
        "  print(actv)\r\n",
        "  actv = actv+'()'\r\n",
        "  net = Net(actv, 3*32*32, [128, 32], 3).to(dev) \r\n",
        "  criterion = nn.MultiMarginLoss(margin=1.0)\r\n",
        "  optimizer = optim.Adam(net.parameters(), lr=3e-4)\r\n",
        "  _, _ = train_test_classification(net, criterion, optimizer,\r\n",
        "                                  img_train_loader, img_test_loader,\r\n",
        "                                  num_epochs=50)"
      ],
      "execution_count": null,
      "outputs": []
    },
    {
      "cell_type": "code",
      "metadata": {
        "id": "M7kyUEBxHXnd"
      },
      "source": [
        "fc1_weights = net.layers[0].weight.view(128, 3, 32, 32).detach().cpu()\r\n",
        "fc1_weights /= torch.max(torch.abs(fc1_weights))\r\n",
        "imshow(make_grid(fc1_weights, nrow=16))"
      ],
      "execution_count": null,
      "outputs": []
    },
    {
      "cell_type": "markdown",
      "metadata": {
        "id": "QaE5OQ_39jRH"
      },
      "source": [
        "# The need for good initialization\r\n",
        "[The discussion about why optimal gain is dependent with the transfer functions and what is theoretical optimal solution for Leaky ReLU]"
      ]
    },
    {
      "cell_type": "code",
      "metadata": {
        "cellView": "form",
        "id": "fsZzbd099ltE"
      },
      "source": [
        "#@title Video 16:"
      ],
      "execution_count": null,
      "outputs": []
    },
    {
      "cell_type": "markdown",
      "metadata": {
        "id": "40KCBDx686kr"
      },
      "source": [
        "## Xavier initialization\r\n",
        "Let us look at the scale distribution of an output (e.g., a hidden variable)  $o_i$  for some fully-connected layer without nonlinearities. With  $n_{in}$  inputs  ($x_j$)  and their associated weights  $w_{ij}$  for this layer. Then an output is given by,\r\n",
        "$$\r\n",
        "o_{i} = \\sum_{j=1}^{n_\\mathrm{in}} w_{ij} x_j\r\n",
        "$$\r\n",
        "The weights  $w_{ij}$  are all drawn independently from the same distribution. Furthermore, let us assume that this distribution has zero mean and variance  $\\sigma^2$ . Note that this does not mean that the distribution has to be Gaussian, just that the mean and variance need to exist. For now, let us assume that the inputs to the layer  $x_j$ also have zero mean and variance  $\\gamma^2$  and that they are independent of $w_{ij}$ and independent of each other. In this case, we can compute the mean and variance of $o_i$ as follows:\r\n",
        "\\begin{split}\\begin{aligned}\r\n",
        "    E[o_i] & = \\sum_{j=1}^{n_\\mathrm{in}} E[w_{ij} x_j] = \\sum_{j=1}^{n_\\mathrm{in}} E[w_{ij}] E[x_j] = 0, \\\\\r\n",
        "    \\mathrm{Var}[o_i] & = E[o_i^2] - (E[o_i])^2 = \\sum_{j=1}^{n_\\mathrm{in}} E[w^2_{ij} x^2_j] - 0 = \\sum_{j=1}^{n_\\mathrm{in}} E[w^2_{ij}] E[x^2_j] = n_\\mathrm{in} \\sigma^2 \\gamma^2\r\n",
        "\\end{aligned}\\end{split}\r\n",
        "One way to keep the variance fixed is to set $n_{in}\\sigma^2=1$ . Now consider backpropagation. There we face a similar problem, albeit with gradients being propagated from the layers closer to the output. Using the same reasoning as for forward propagation, we see that the gradients’ variance can blow up unless $n_{out}\\sigma^2=1$ , where  $n_{out}$ is the number of outputs of this layer. This leaves us in a dilemma: we cannot possibly satisfy both conditions simultaneously. Instead, we simply try to satisfy:\r\n",
        "\\begin{aligned}\r\n",
        "\\frac{1}{2} (n_\\mathrm{in} + n_\\mathrm{out}) \\sigma^2 = 1 \\text{ or equivalently }\r\n",
        "\\sigma = \\sqrt{\\frac{2}{n_\\mathrm{in} + n_\\mathrm{out}}}\r\n",
        "\\end{aligned}\r\n",
        "This is the reasoning underlying the now-standard and practically beneficial Xavier initialization, named after the first author of its creators [Glorot & Bengio, 2010]. Typically, the Xavier initialization samples weights from a Gaussian distribution with zero mean and variance  $\\sigma^2=\\frac{2}{(n_{in}+n_{out})}$. We can also adapt Xavier’s intuition to choose the variance when sampling weights from a uniform distribution. Note that the uniform distribution $U(−a,a)$ has variance $\\frac{a^2}{3}$. Plugging this into our condition on $\\sigma^2$ yields the suggestion to initialize according to\r\n",
        "$$\r\n",
        "U\\left(-\\sqrt{\\frac{6}{n_\\mathrm{in} + n_\\mathrm{out}}}, \\sqrt{\\frac{6}{n_\\mathrm{in} + n_\\mathrm{out}}}\\right)\r\n",
        "$$\r\n",
        "This explanation is mainly taken from [here](https://d2l.ai/chapter_multilayer-perceptrons/numerical-stability-and-init.html).\r\n"
      ]
    },
    {
      "cell_type": "markdown",
      "metadata": {
        "id": "vm5fWWd6j7Y1"
      },
      "source": [
        "## Initialization with transfer function\r\n",
        "Let's derive the optimal gain for LeakyReLU following a similar steps,\r\n",
        "\r\n",
        "$$\r\n",
        "f(x)=\\left\\{\\begin{array}{ll}\r\n",
        "a x & \\text { for } x<0 \\\\\r\n",
        "x & \\text { for } x \\geq 0\r\n",
        "\\end{array}\\right.\r\n",
        "$$\r\n",
        "\r\n",
        "Considering a single layer with activation gives, \r\n",
        "\r\n",
        "\r\n",
        "The expectation of the output is still zero but the variance changes and assuming the probability $P(x < 0) = 0.5$\r\n",
        "\r\n",
        "\\begin{split}\\begin{aligned}\r\n",
        "    \\mathrm{Var}[f(o_i)] = E[f(o_i)^2] & = \\frac{\\mathrm{Var}[o_i] + a^2 \\mathrm{Var}[o_i]}{2} = \\frac{1+a^2}{2}n_\\mathrm{in} \\sigma^2 \\gamma^2\r\n",
        "\\end{aligned}\\end{split}\r\n",
        "\r\n",
        "Therefore following the rest of derivation as before,\r\n",
        "\r\n",
        "$$\r\n",
        "\\sigma = gain\\sqrt{\\frac{2}{n_\\mathrm{in} + n_\\mathrm{out}}}, \\quad gain = \\sqrt{\\frac{2}{1+a^2}}\r\n",
        "$$"
      ]
    },
    {
      "cell_type": "markdown",
      "metadata": {
        "id": "8LxZCVS5pCsD"
      },
      "source": [
        "## Exercise 15: Best gain for Xavier Initialization with Leaky ReLU"
      ]
    },
    {
      "cell_type": "code",
      "metadata": {
        "id": "HqeL_3FuHn3X"
      },
      "source": [
        "N = 10 # number of trials\r\n",
        "gains = np.linspace(1/N, 3.0, N)\r\n",
        "test_accs = []\r\n",
        "train_accs = []\r\n",
        "for gain in gains:\r\n",
        "\r\n",
        "  def init_weights(m):\r\n",
        "    if type(m) == nn.Linear:\r\n",
        "        torch.nn.init.xavier_normal_(m.weight, gain) # [TO-DO]\r\n",
        "        # torch.nn.init.xavier_uniform_(m.weight, gain)\r\n",
        "\r\n",
        "  negative_slope = 0.1\r\n",
        "  actv = 'LeakyReLU(%f)'%negative_slope # [TO-DO]\r\n",
        "  net = Net(actv, 3*32*32, [128, 64, 32], 3).to(dev) \r\n",
        "  net.apply(init_weights) # [TO-DO]\r\n",
        "  criterion = nn.CrossEntropyLoss()\r\n",
        "  # criterion = nn.MultiMarginLoss(margin=1.0)\r\n",
        "  optimizer = optim.SGD(net.parameters(), lr=1e-2) # [TO-DO]\r\n",
        "  train_acc, test_acc = train_test_classification(net, criterion, optimizer,\r\n",
        "                                                  img_train_loader, img_test_loader,\r\n",
        "                                                  num_epochs=1, verbose=False)\r\n",
        "  test_accs += [test_acc]\r\n",
        "  train_accs += [train_acc]\r\n",
        "\r\n",
        "best_gain = gains[np.argmax(train_accs)]\r\n",
        "plt.plot(gains, test_accs, label='Test')\r\n",
        "plt.plot(gains, train_accs, label='Train')\r\n",
        "plt.scatter(best_gain, max(train_accs), label='argmax gain = %.1f'%best_gain, c='r')\r\n",
        "theoretical_gain = np.sqrt(2.0 / (1 + negative_slope ** 2)) # [TO-DO]\r\n",
        "plt.scatter(theoretical_gain, max(train_accs), label='theoretical gain = %.2f'%theoretical_gain, c='g')\r\n",
        "plt.legend()\r\n",
        "plt.plot()"
      ],
      "execution_count": null,
      "outputs": []
    },
    {
      "cell_type": "markdown",
      "metadata": {
        "id": "ZMxtE7y0AF1o"
      },
      "source": [
        "# Conclusion\r\n",
        "[Overcomplete MLPs are good (make link to neural tangent kernels), show how the infinite width limit produces beautifully smooth interpolations]\r\n",
        "\r\n",
        "[High dimensional spaces intuition, the idea of ensemble methods, See how mixing multiple models often helps. Conceptualize ANNs as many models in parallel]"
      ]
    },
    {
      "cell_type": "code",
      "metadata": {
        "cellView": "form",
        "id": "9x3YnWphApIa"
      },
      "source": [
        "#@title Video 17:"
      ],
      "execution_count": null,
      "outputs": []
    },
    {
      "cell_type": "markdown",
      "metadata": {
        "id": "0kglwCDy7x71"
      },
      "source": [
        "#Feedback\r\n",
        "how could this session have been better? How happy are you in your group? How do you feel right now?"
      ]
    },
    {
      "cell_type": "code",
      "metadata": {
        "id": "RWrOEFlb730A"
      },
      "source": [
        "# report to Airtable"
      ],
      "execution_count": null,
      "outputs": []
    },
    {
      "cell_type": "markdown",
      "metadata": {
        "id": "yGTLB5JFJ4-k"
      },
      "source": [
        "# Homeworks\r\n",
        "* (1) Join the Kaggle Competition to solve Animal Faces with random permutations using MLPs.\r\n",
        "* (2) Something where you debug something: Cross-entropy optimization with poor initialization, producing NaNs.\r\n",
        "* (3) Something related to ethics: A classification system with interest bias?\r\n",
        "* (4) Read some cool original paper:  Kernel vs Rich regimes paper?\r\n"
      ]
    },
    {
      "cell_type": "markdown",
      "metadata": {
        "id": "EPmj2vUfv4t7"
      },
      "source": [
        "# Kaggle competition\r\n",
        "https://www.kaggle.com/c/permuted-animal-faces/"
      ]
    },
    {
      "cell_type": "markdown",
      "metadata": {
        "id": "Qh0C1P5EPpvl"
      },
      "source": [
        "preparing the Kaggle dataset by permuting the animal faces\r\n",
        "\r\n",
        "[ To-be removed in the end]"
      ]
    },
    {
      "cell_type": "code",
      "metadata": {
        "id": "Qz6r1kAZ3qRK"
      },
      "source": [
        "\r\n",
        "# Datasets\r\n",
        "train_transform = transforms.Compose([\r\n",
        "     transforms.RandomRotation(10),\r\n",
        "     transforms.RandomHorizontalFlip(),\r\n",
        "     ])\r\n",
        "\r\n",
        "data_path = pathlib.Path('.')/'afhq' # using pathlib to be compatible with all OS's\r\n",
        "img_train_dataset = ImageFolder(data_path/'train', transform=train_transform)\r\n",
        "\r\n",
        "test_transform = transforms.Compose([\r\n",
        "     transforms.RandomRotation(10),\r\n",
        "     transforms.RandomHorizontalFlip(),\r\n",
        "     ])\r\n",
        "img_test_dataset = ImageFolder(data_path/'val', transform=test_transform)"
      ],
      "execution_count": null,
      "outputs": []
    },
    {
      "cell_type": "code",
      "metadata": {
        "id": "HNJjmMQ_6riA"
      },
      "source": [
        "rand_perm = np.random.permutation(3*32*32)"
      ],
      "execution_count": null,
      "outputs": []
    },
    {
      "cell_type": "code",
      "metadata": {
        "id": "hKR2KfQ_PzHd"
      },
      "source": [
        "import json\r\n",
        "with open(\"rand_perm.txt\", \"w\") as fp:\r\n",
        "  json.dump(rand_perm.tolist(), fp)"
      ],
      "execution_count": null,
      "outputs": []
    },
    {
      "cell_type": "code",
      "metadata": {
        "id": "bxGty2FtyEtq"
      },
      "source": [
        "test_data = np.zeros((len(img_test_dataset), 1+3*32*32),\r\n",
        "                     dtype=np.uint8)\r\n",
        "for i, data in enumerate(img_test_dataset):\r\n",
        "  X, y = data\r\n",
        "  X = np.array(X, dtype=np.uint8).reshape(-1)\r\n",
        "  X = X[rand_perm]\r\n",
        "  test_data[i, 0] = y\r\n",
        "  test_data[i, 1:] = X\r\n",
        "test_data = np.random.permutation(test_data)"
      ],
      "execution_count": null,
      "outputs": []
    },
    {
      "cell_type": "code",
      "metadata": {
        "id": "R4lOgx_T8BZD"
      },
      "source": [
        "header = []\r\n",
        "for i in range(3*32*32):\r\n",
        "  header += ['pixel%d'%(i+1)]\r\n",
        "\r\n",
        "import csv\r\n",
        "with open('test.csv', 'w', newline='') as file:\r\n",
        "    writer = csv.writer(file)\r\n",
        "    writer.writerow(header)\r\n",
        "    \r\n",
        "    for i in range(test_data.shape[0]):\r\n",
        "      data = test_data[i, 1:].tolist()\r\n",
        "      writer.writerow(data)\r\n",
        "\r\n",
        "header = ['ImageId', 'Label']\r\n",
        "with open('solution.csv', 'w', newline='') as file:\r\n",
        "    writer = csv.writer(file)\r\n",
        "    writer.writerow(header)\r\n",
        "    \r\n",
        "    for i in range(test_data.shape[0]):\r\n",
        "      data = [i+1] + [test_data[i, 0]]\r\n",
        "      writer.writerow(data)\r\n",
        "\r\n",
        "header = ['ImageId', 'Label']\r\n",
        "with open('sampleSubmission.csv', 'w', newline='') as file:\r\n",
        "    writer = csv.writer(file)\r\n",
        "    writer.writerow(header)\r\n",
        "    \r\n",
        "    for i in range(test_data.shape[0]):\r\n",
        "      writer.writerow([i+1] + [1])"
      ],
      "execution_count": null,
      "outputs": []
    },
    {
      "cell_type": "code",
      "metadata": {
        "id": "gL5aNMmWwntM"
      },
      "source": [
        "train_data = np.zeros((len(img_train_dataset), 1+3*32*32),\r\n",
        "                     dtype=np.uint8)\r\n",
        "for i, data in enumerate(img_train_dataset):\r\n",
        "  X, y = data\r\n",
        "  X = np.array(X, dtype=np.uint8).reshape(-1)\r\n",
        "  X = X[rand_perm]\r\n",
        "  train_data[i, 0] = y\r\n",
        "  train_data[i, 1:] = X\r\n",
        "train_data = np.random.permutation(train_data)"
      ],
      "execution_count": null,
      "outputs": []
    },
    {
      "cell_type": "code",
      "metadata": {
        "id": "jtDNXulZAlCg"
      },
      "source": [
        "header = [\"Label\"]\r\n",
        "for i in range(3*32*32):\r\n",
        "  header += ['pixel %d'%(i+1)]\r\n",
        "\r\n",
        "with open('train.csv', 'w', newline='') as file:\r\n",
        "    writer = csv.writer(file)\r\n",
        "    writer.writerow(header)\r\n",
        "    \r\n",
        "    for i in range(train_data.shape[0]):\r\n",
        "      data = train_data[i].tolist()\r\n",
        "      writer.writerow(data)"
      ],
      "execution_count": null,
      "outputs": []
    }
  ]
}